{
 "cells": [
  {
   "cell_type": "code",
   "execution_count": 4,
   "metadata": {},
   "outputs": [],
   "source": [
    "import numpy as np \n",
    "import matplotlib.pyplot as plt \n",
    "import random"
   ]
  },
  {
   "cell_type": "code",
   "execution_count": 8,
   "metadata": {},
   "outputs": [],
   "source": [
    "def W(u):\n",
    "    \n",
    "    output = np.zeros(u.shape)\n",
    "    for index,val in enumerate(u):\n",
    "        \n",
    "        if val >= 100:\n",
    "            output[index] = val - np.log(val)\n",
    "    \n",
    "        if val < 100 and val > - 20 :\n",
    "            w = 1\n",
    "            v = 0\n",
    "            while abs(w - v)/abs(w) > 1.e-8:\n",
    "                v = w\n",
    "                e = np.exp(w)\n",
    "                f = w*e - val\n",
    "                w = w - f/((e*(w+1) - (w+2)*f/(2*w+2)))\n",
    "            output[index] = w\n",
    "            \n",
    "        if val <=-20:\n",
    "            output[index] = 0\n",
    "        \n",
    "    return output"
   ]
  },
  {
   "cell_type": "code",
   "execution_count": 11,
   "metadata": {},
   "outputs": [
    {
     "data": {
      "text/plain": [
       "array([95.39482981,  0.8526055 ,  0.35173371,  0.        ])"
      ]
     },
     "execution_count": 11,
     "metadata": {},
     "output_type": "execute_result"
    }
   ],
   "source": [
    "W(np.array([100,2,0.5,-50]))"
   ]
  }
 ],
 "metadata": {
  "kernelspec": {
   "display_name": "Python 3",
   "language": "python",
   "name": "python3"
  },
  "language_info": {
   "codemirror_mode": {
    "name": "ipython",
    "version": 3
   },
   "file_extension": ".py",
   "mimetype": "text/x-python",
   "name": "python",
   "nbconvert_exporter": "python",
   "pygments_lexer": "ipython3",
   "version": "3.6.7"
  }
 },
 "nbformat": 4,
 "nbformat_minor": 2
}
