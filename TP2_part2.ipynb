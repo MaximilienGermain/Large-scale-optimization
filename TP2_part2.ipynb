{
 "cells": [
  {
   "cell_type": "code",
   "execution_count": 4,
   "metadata": {},
   "outputs": [],
   "source": [
    "import numpy as np \n",
    "import matplotlib.pyplot as plt \n",
    "import random"
   ]
  },
  {
   "cell_type": "code",
   "execution_count": 8,
   "metadata": {},
   "outputs": [],
   "source": [
    "def W(u):\n",
    "    \n",
    "    output = np.zeros(u.shape)\n",
    "    for index,val in enumerate(u):\n",
    "        \n",
    "        if val >= 100:\n",
    "            output[index] = val - np.log(val)\n",
    "    \n",
    "        if val < 100 and val > - 20 :\n",
    "            w = 1\n",
    "            v = 0\n",
    "            while abs(w - v)/abs(w) > 1.e-8:\n",
    "                v = w\n",
    "                e = np.exp(w)\n",
    "                f = w*e - val\n",
    "                w = w - f/((e*(w+1) - (w+2)*f/(2*w+2)))\n",
    "            output[index] = w\n",
    "            \n",
    "        if val <=-20:\n",
    "            output[index] = 0\n",
    "        \n",
    "    return output"
   ]
  },
  {
   "cell_type": "code",
   "execution_count": 11,
   "metadata": {},
   "outputs": [
    {
     "data": {
      "text/plain": [
       "array([95.39482981,  0.8526055 ,  0.35173371,  0.        ])"
      ]
     },
     "execution_count": 11,
     "metadata": {},
     "output_type": "execute_result"
    }
   ],
   "source": [
    "W(np.array([100,2,0.5,-50]))"
   ]
  },
  {
   "cell_type": "code",
   "execution_count": null,
   "metadata": {},
   "outputs": [],
   "source": [
    "beta_grid = np.exp(np.log(10)*np.linspace(-4,2,7))\n",
    "\n",
    "def proximal_gradient_entr(lamb,K,y,T,xmin,xmax,display = False):\n",
    "    tol = 1e-7\n",
    "    max_iter = 1000\n",
    "    nb_iter = 0\n",
    "    m = K.shape[0]\n",
    "    n = K.shape[1]\n",
    "    u = np.zeros((n,1))\n",
    "    w,v = np.linalg.eig(np.dot(K.T,K) + lamb * np.dot(D.T,D))\n",
    "    L = max(w)\n",
    "    epsilon = 1/L\n",
    "    norm2 = np.linalg.norm(np.dot(K,u) - y.reshape(m,1))\n",
    "    normD = np.linalg.norm(np.dot(D,u))\n",
    "    obj = 0.5 * norm2 **2 + 0.5 * lamb * normD ** 2 + ind(u,xmin,xmax)\n",
    "    last_obj = 0\n",
    "    if display:\n",
    "        print(\"Objectif : {}, ||Ku-y||^2 : {}, ||Du||^2 : {}, ind : {}\".format(obj,norm2**2,normD**2,ind(u,xmin,xmax)))\n",
    "    \n",
    "    while (abs(obj - last_obj) > tol and nb_iter < max_iter):\n",
    "        w = u - epsilon * (np.dot(K.T,np.dot(K,u) - y.reshape(m,1)) + lamb * np.dot(D.T,np.dot(D,u)))\n",
    "        last_obj = obj\n",
    "        u = prox_cons(w,xmin,xmax) \n",
    "        norm2 = np.linalg.norm(np.dot(K,u) - y.reshape(m,1))\n",
    "        normD = np.linalg.norm(np.dot(D,u))\n",
    "        obj = 0.5 * norm2 **2 + 0.5*lamb * normD ** 2 + ind(u,xmin,xmax)\n",
    "        if display:\n",
    "            print(\"Objectif : {}, ||Ku-y||^2 : {}, ||Du||^2 : {}, ind : {}\".format(obj,norm2**2,normD**2,ind(u,xmin,xmax)))\n",
    "        nb_iter += 1\n",
    "        \n",
    "    return u\n",
    "        \n",
    "def prox_entr(w,xmin,xmax):\n",
    "    m = w.shape[0]\n",
    "    out = np.zeros((m,1))\n",
    "    for index in range(m):\n",
    "        value = w[index,0]\n",
    "        if value >  xmax:\n",
    "            out[index,0] = xmax\n",
    "        elif value <  xmin:\n",
    "            out[index,0] = xmin\n",
    "        elif value >= xmin and value <= xmax:\n",
    "            out[index,0] = value\n",
    "    return out\n",
    "\n",
    "def ind(x,xmin,xmax):\n",
    "    n = x.shape[0]\n",
    "    for i in range(n):\n",
    "        if x[i] > xmax or x[i] < xmin:\n",
    "            return 1e30\n",
    "    return 0\n",
    "\n",
    "for i in range(beta_grid.shape[0]):\n",
    "    beta = beta_grid[i]\n",
    "    x_hat = proximal_gradient_smooth_cons(beta,K,y,T,xmin,xmax) #,True\n",
    "    print(\"MSE : {}, beta : {}\\n\".format(normalized_MSE(x_hat,x.reshape(200,1)),beta))\n",
    "    plt.plot(np.log(T),x_hat)\n",
    "    plt.plot(np.log(T),x)\n",
    "    plt.grid()\n",
    "    plt.show()"
   ]
  }
 ],
 "metadata": {
  "kernelspec": {
   "display_name": "Python 3",
   "language": "python",
   "name": "python3"
  },
  "language_info": {
   "codemirror_mode": {
    "name": "ipython",
    "version": 3
   },
   "file_extension": ".py",
   "mimetype": "text/x-python",
   "name": "python",
   "nbconvert_exporter": "python",
   "pygments_lexer": "ipython3",
   "version": "3.6.7"
  }
 },
 "nbformat": 4,
 "nbformat_minor": 2
}
