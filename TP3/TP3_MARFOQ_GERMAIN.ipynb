{
  "nbformat": 4,
  "nbformat_minor": 0,
  "metadata": {
    "colab": {
      "name": "TP3_MARFOQ_GERMAIN.ipynb",
      "version": "0.3.2",
      "provenance": [],
      "collapsed_sections": [],
      "toc_visible": true
    },
    "kernelspec": {
      "name": "python3",
      "display_name": "Python 3"
    },
    "accelerator": "GPU"
  },
  "cells": [
    {
      "metadata": {
        "id": "FTrOVUdW4Rtv",
        "colab_type": "code",
        "colab": {}
      },
      "cell_type": "code",
      "source": [
        "import numpy as np\n",
        "from scipy.io import loadmat\n",
        "import scipy\n",
        "from scipy.sparse import linalg\n",
        "import matplotlib.pyplot as plt\n",
        "from decimal import Decimal\n",
        "import time\n",
        "import matplotlib.pyplot as plt\n",
        "import random"
      ],
      "execution_count": 0,
      "outputs": []
    },
    {
      "metadata": {
        "id": "Cq_W8l7o4Yr5",
        "colab_type": "code",
        "colab": {
          "base_uri": "https://localhost:8080/",
          "height": 121
        },
        "outputId": "0b4d75d1-7003-4418-8cc2-cba9749c79b7"
      },
      "cell_type": "code",
      "source": [
        "from google.colab import drive\n",
        "drive.mount(\"/content/gdrive\", force_remount=True)"
      ],
      "execution_count": 1,
      "outputs": [
        {
          "output_type": "stream",
          "text": [
            "Go to this URL in a browser: https://accounts.google.com/o/oauth2/auth?client_id=947318989803-6bn6qk8qdgf4n4g3pfee6491hc0brc4i.apps.googleusercontent.com&redirect_uri=urn%3Aietf%3Awg%3Aoauth%3A2.0%3Aoob&scope=email%20https%3A%2F%2Fwww.googleapis.com%2Fauth%2Fdocs.test%20https%3A%2F%2Fwww.googleapis.com%2Fauth%2Fdrive%20https%3A%2F%2Fwww.googleapis.com%2Fauth%2Fdrive.photos.readonly%20https%3A%2F%2Fwww.googleapis.com%2Fauth%2Fpeopleapi.readonly&response_type=code\n",
            "\n",
            "Enter your authorization code:\n",
            "··········\n",
            "Mounted at /content/gdrive\n"
          ],
          "name": "stdout"
        }
      ]
    },
    {
      "metadata": {
        "id": "5POpF8AY4Rt6",
        "colab_type": "text"
      },
      "cell_type": "markdown",
      "source": [
        "# Image reconstruction in X-ray tomography"
      ]
    },
    {
      "metadata": {
        "id": "dfb4q92U4Rt7",
        "colab_type": "text"
      },
      "cell_type": "markdown",
      "source": [
        "## 1 X-ray tomography"
      ]
    },
    {
      "metadata": {
        "id": "oqhW1Nwx4Rt8",
        "colab_type": "text"
      },
      "cell_type": "markdown",
      "source": [
        "$\\underline{\\textbf{Q1.}}$ We start by loading the matrix $H$ and the image matrix $\\bar{x}$"
      ]
    },
    {
      "metadata": {
        "id": "xaaHFbYw4jMB",
        "colab_type": "code",
        "colab": {}
      },
      "cell_type": "code",
      "source": [
        "path = 'gdrive/My Drive/MVA/Large_Scale_Optim/'"
      ],
      "execution_count": 0,
      "outputs": []
    },
    {
      "metadata": {
        "id": "gyy2bfyJ4Rt8",
        "colab_type": "code",
        "colab": {}
      },
      "cell_type": "code",
      "source": [
        "x = loadmat(path + \"data/x.mat\")['x']\n",
        "H = loadmat(path + \"data/H.mat\")['H']\n",
        "G = loadmat(path + \"data/H.mat\")['H']"
      ],
      "execution_count": 0,
      "outputs": []
    },
    {
      "metadata": {
        "id": "_GBMpRbG4RuC",
        "colab_type": "text"
      },
      "cell_type": "markdown",
      "source": [
        "$\\underline{\\textbf{Q2.}}$ Let's Construct y using such that:\n",
        "$$y = H\\bar{x} + \\omega $$\n",
        "where $\\omega \\in \\mathbb{R}^{M}$ is an i.i.d Gaussian noise with variance $\\sigma^{2}$"
      ]
    },
    {
      "metadata": {
        "id": "qCDC84HE4RuF",
        "colab_type": "code",
        "colab": {}
      },
      "cell_type": "code",
      "source": [
        "M = H.shape[0]\n",
        "N = x.shape[0]\n",
        "\n",
        "sigma = 1\n",
        "lamb = 0.13\n",
        "delta = 0.02\n",
        "\n",
        "w = np.random.normal(scale = sigma, size=(M,1))\n",
        "y = H*x+w"
      ],
      "execution_count": 0,
      "outputs": []
    },
    {
      "metadata": {
        "id": "lOpknfG74RuI",
        "colab_type": "text"
      },
      "cell_type": "markdown",
      "source": [
        "$\\underline{\\textbf{Q3.}}$ Let's visualize the image $\\bar{x}$, and a 2D version of $y$"
      ]
    },
    {
      "metadata": {
        "id": "kW__TvFP4RuJ",
        "colab_type": "code",
        "colab": {
          "base_uri": "https://localhost:8080/",
          "height": 366
        },
        "outputId": "b162f755-eeaf-4727-ead2-aa3875209eb8"
      },
      "cell_type": "code",
      "source": [
        "plt.imshow(x.reshape(90,90).T,cmap = 'gray')"
      ],
      "execution_count": 6,
      "outputs": [
        {
          "output_type": "execute_result",
          "data": {
            "text/plain": [
              "<matplotlib.image.AxesImage at 0x7f46c90e27f0>"
            ]
          },
          "metadata": {
            "tags": []
          },
          "execution_count": 6
        },
        {
          "output_type": "display_data",
          "data": {
            "image/png": "[encoded data removed]",
            "text/plain": [
              "<Figure size 576x396 with 1 Axes>"
            ]
          },
          "metadata": {
            "tags": []
          }
        }
      ]
    },
    {
      "metadata": {
        "id": "cXit9GTO4RuO",
        "colab_type": "code",
        "colab": {
          "base_uri": "https://localhost:8080/",
          "height": 290
        },
        "outputId": "451e593a-ac82-4485-a8d6-9baa4e7d8375"
      },
      "cell_type": "code",
      "source": [
        "plt.imshow(y.reshape(180,90).T,cmap = 'gray')"
      ],
      "execution_count": 7,
      "outputs": [
        {
          "output_type": "execute_result",
          "data": {
            "text/plain": [
              "<matplotlib.image.AxesImage at 0x7f46c7010390>"
            ]
          },
          "metadata": {
            "tags": []
          },
          "execution_count": 7
        },
        {
          "output_type": "display_data",
          "data": {
            "image/png": "[encoded data removed]",
            "text/plain": [
              "<Figure size 576x396 with 1 Axes>"
            ]
          },
          "metadata": {
            "tags": []
          }
        }
      ]
    },
    {
      "metadata": {
        "id": "N_16XCRH4RuS",
        "colab_type": "text"
      },
      "cell_type": "markdown",
      "source": [
        "## 2 Optimization problem"
      ]
    },
    {
      "metadata": {
        "id": "0EzeAWIg4RuU",
        "colab_type": "code",
        "colab": {}
      },
      "cell_type": "code",
      "source": [
        "def f(x,y,G,H,lamb,delta):\n",
        "    return 0.5*np.linalg.norm(H*x - y)**2 + lamb*r(x,delta,G) \n",
        "\n",
        "def grad_f(x,y,G,H,lamb,delta):\n",
        "    return H.T*(H*x - y) + lamb * grad_r(x,delta,G)\n",
        "\n",
        "def r(x,delta,G):\n",
        "    return float(np.sum(psi(G*x,delta),axis=0))\n",
        "\n",
        "def grad_r(x,delta,G):\n",
        "    return G.T*psi_prime(G*x,delta)\n",
        "\n",
        "def psi(u,delta):\n",
        "    return np.sqrt(1+np.power(u,2)/delta**2)\n",
        "\n",
        "def psi_prime(u,delta):\n",
        "    return u/(delta**2 * psi(u,delta))\n",
        "  \n",
        "def psi_second(u,delta):\n",
        "    return 1/(delta**2 * psi(u,delta))\n",
        "\n",
        "def omega(u,dela):\n",
        "    return psi_prime(u,delta)/u\n",
        "\n",
        "\n",
        "def SNR(x_hat,x):\n",
        "    return 10 * np.log10(np.linalg.norm(x)**2/np.linalg.norm(x-x_hat)**2)\n"
      ],
      "execution_count": 0,
      "outputs": []
    },
    {
      "metadata": {
        "id": "Ef3u4QeD4Ruy",
        "colab_type": "text"
      },
      "cell_type": "markdown",
      "source": [
        "$\\underline{\\textbf{Q2.}}$ Let be $x \\in \\mathbb{R}^{N}$, and let's compute $\\nabla f(x)$\n",
        "\n",
        "$$\\nabla f(x) = H^{T}(Hx - y) + \\lambda \\nabla r(x) = H^{T}(Hx - y)  + G^{T}\\Psi'(Gx)$$\n",
        "Where $\\Psi'(Gx) = \\left(\\Psi'([Gx]^{n})\\right)_{1\\leq n \\leq 2N}$"
      ]
    },
    {
      "metadata": {
        "id": "n4VsglvR4Ruy",
        "colab_type": "text"
      },
      "cell_type": "markdown",
      "source": [
        "$\\underline{\\textbf{Q3.}}$ Let's show that $\\nabla f $ is $L$-Lipshitz with $L = \\left\\| H\\right\\|^{2} + \\frac{\\lambda}{\\delta^{2}}\\left\\|G\\right\\|^{2}$. \n",
        "\n",
        "We know that $\\forall x_1,x_2 \\in \\mathbb{R}^{N}$ $$\\left\\|\\nabla f(x_1) - \\nabla f(x_2)\\right\\| \\leq \\underset{\\mathbb{R}^{N}}{\\text{sup}}\\left\\|\\nabla^{2}f\\right\\| . \\left\\|x_1-x_2\\right\\|$$ \n",
        "\n",
        "A simple computation show that, $\\forall x \\in \\mathbb{R}^{N}$\n",
        "\n",
        "$$\\nabla^{2}f(x) = H^{T}H + \\lambda G^{T}.\\text{Diag}\\left(\\Psi''(Gx)\\right).G$$\n",
        "\n",
        "And since $\\forall u \\in \\mathbb{R}$,  $\\Psi''(u) = \\frac{1}{\\delta^{2}\\sqrt{1+\\frac{u^{2}}{\\delta^{2}}}}\\left( 1 - \\frac{1}{\\delta^2 + u^2}\\right)$ . $\\forall x \\in \\mathbb{R}^{N}$, $\\left\\|\\nabla^{2} f(x)\\right\\| \\leq \\left\\|H\\right\\|^{2} + \\frac{\\lambda}{\\delta^2}\\left\\|G\\right\\|^{2}$\n",
        "\n",
        "Therfore $\\nabla f$ is $L$-lipshitz"
      ]
    },
    {
      "metadata": {
        "id": "MdFzCP6M4Ruz",
        "colab_type": "code",
        "colab": {
          "base_uri": "https://localhost:8080/",
          "height": 34
        },
        "outputId": "7e43eeae-e041-46cd-ab4d-84b033ba6f3a"
      },
      "cell_type": "code",
      "source": [
        "L = scipy.sparse.linalg.norm(H)**2 + delta/lamb**2 * scipy.sparse.linalg.norm(G)**2\n",
        "print('L = {}'.format(L))"
      ],
      "execution_count": 9,
      "outputs": [
        {
          "output_type": "stream",
          "text": [
            "L = 1718873.069607413\n"
          ],
          "name": "stdout"
        }
      ]
    },
    {
      "metadata": {
        "id": "0G_W8q134Ru4",
        "colab_type": "text"
      },
      "cell_type": "markdown",
      "source": [
        "## 3. Optimization algorithms"
      ]
    },
    {
      "metadata": {
        "id": "JgrYY4uU4Ru4",
        "colab_type": "text"
      },
      "cell_type": "markdown",
      "source": [
        "### 3.1. Gradient descent algorithm "
      ]
    },
    {
      "metadata": {
        "id": "KqD1jeFI4Ru5",
        "colab_type": "text"
      },
      "cell_type": "markdown",
      "source": [
        "$\\underline{\\textbf{Q1.}}$ We create first $x_{0} \\in \\mathbb{R}^{N}$ a vector with all entries equal to 0. This will be our initialization for all tested algorithms"
      ]
    },
    {
      "metadata": {
        "id": "_wylpOFo4Ru6",
        "colab_type": "code",
        "colab": {}
      },
      "cell_type": "code",
      "source": [
        "x0 = np.zeros((N,1))"
      ],
      "execution_count": 0,
      "outputs": []
    },
    {
      "metadata": {
        "id": "nrvaaxAB4Ru8",
        "colab_type": "text"
      },
      "cell_type": "markdown",
      "source": [
        "$\\underline{\\textbf{Q2.}}$ We implement now a gradient descent algorithm to minimize $f$."
      ]
    },
    {
      "metadata": {
        "id": "bUtdHa634Ru9",
        "colab_type": "code",
        "colab": {
          "base_uri": "https://localhost:8080/",
          "height": 914
        },
        "outputId": "f9a98554-b627-468b-bed0-02ed823ec3ea"
      },
      "cell_type": "code",
      "source": [
        "def gradient_descent(f,grad_f,x0,L,N,y,G,H,lamb,delta):\n",
        "    gamma = 1/L\n",
        "    grad = N*1e-4\n",
        "    x = x0\n",
        "    it = 0\n",
        "    itermax = 1000 #5000\n",
        "    objectives = []\n",
        "    times = [0]\n",
        "    \n",
        "    while grad > np.sqrt(N)*1e-4 and it <= itermax: \n",
        "        \n",
        "        t1 = time.time()\n",
        "        gradient = grad_f(x,y,G,H,lamb,delta)\n",
        "        x = x - gamma*gradient\n",
        "        grad = np.linalg.norm(gradient)\n",
        "        criterion = f(x,y,G,H,lamb,delta)        \n",
        "        objectives.append(criterion)\n",
        "        \n",
        "        if it%100 == 0:\n",
        "            print(\"Iteration {}, objective: {:.2E}, {}\".format(it,Decimal(criterion),grad))          \n",
        "        t2 = time.time()\n",
        "        times.append(times[-1]+t2-t1)\n",
        "        it += 1\n",
        "    return x,objectives,times\n",
        "        \n",
        "x_hat,objectives,times = gradient_descent(f,grad_f,x0,L,N,y,G,H,0.01,delta)\n",
        "plt.figure()\n",
        "plt.semilogy(times[1:],objectives)\n",
        "plt.grid(which='both')\n",
        "print('\\nSignal to Noise Ratio:',SNR(x_hat,x))\n",
        "plt.figure()\n",
        "plt.imshow(x_hat.reshape(90,90).T,cmap = 'gray')"
      ],
      "execution_count": 11,
      "outputs": [
        {
          "output_type": "stream",
          "text": [
            "Iteration 0, objective: 6.73E+6, 449456.6737871748\n",
            "Iteration 100, objective: 1.50E+6, 182039.04341087557\n",
            "Iteration 200, objective: 5.86E+5, 79022.39070182257\n",
            "Iteration 300, objective: 3.96E+5, 39921.16259796744\n",
            "Iteration 400, objective: 3.38E+5, 25770.974483137743\n",
            "Iteration 500, objective: 3.08E+5, 19946.788105116197\n",
            "Iteration 600, objective: 2.89E+5, 16615.63312838213\n",
            "Iteration 700, objective: 2.75E+5, 14206.792693872087\n",
            "Iteration 800, objective: 2.65E+5, 12305.919000007556\n",
            "Iteration 900, objective: 2.57E+5, 10764.130924066136\n",
            "Iteration 1000, objective: 2.51E+5, 9499.71850268474\n",
            "\n",
            "Signal to Noise Ratio: 10.144336900058338\n"
          ],
          "name": "stdout"
        },
        {
          "output_type": "execute_result",
          "data": {
            "text/plain": [
              "<matplotlib.image.AxesImage at 0x7f46c6eec908>"
            ]
          },
          "metadata": {
            "tags": []
          },
          "execution_count": 11
        },
        {
          "output_type": "display_data",
          "data": {
            "image/png": "[encoded data removed]",
            "text/plain": [
              "<Figure size 576x396 with 1 Axes>"
            ]
          },
          "metadata": {
            "tags": []
          }
        },
        {
          "output_type": "display_data",
          "data": {
            "image/png": "[encoded data removed]",
            "text/plain": [
              "<Figure size 576x396 with 1 Axes>"
            ]
          },
          "metadata": {
            "tags": []
          }
        }
      ]
    },
    {
      "metadata": {
        "id": "lO36w1I24RvB",
        "colab_type": "text"
      },
      "cell_type": "markdown",
      "source": [
        "### 3.2. MM quadratic algorithm"
      ]
    },
    {
      "metadata": {
        "id": "2MzdSIrV4RvC",
        "colab_type": "text"
      },
      "cell_type": "markdown",
      "source": [
        "$\\underline{\\textbf{Q1.}}$We define $$A(x) = H^{T}H +  \\frac{1}{\\lambda}G^{T}\\omega(x)G$$\n",
        "Where $\\omega(x) = \\left( \\frac{\\psi'\\left([Gx]^{(n)}\\right)}{[Gx]^{n}}\\right)_{0\\leq n\\leq 2N}$\n",
        "\n",
        "Then a quadratic majorant function of $f$ is given by $$h(x,y) = f(y) + \\left\\langle \\nabla f(y) | x-y \\right\\rangle + \\frac{1}{2}\\left\\|x-y\\right\\|^{2}_{A(y)}$$ \n",
        "\n"
      ]
    },
    {
      "metadata": {
        "id": "OV5ZlwGh4RvE",
        "colab_type": "code",
        "colab": {}
      },
      "cell_type": "code",
      "source": [
        "from scipy.sparse.linalg import LinearOperator\n",
        "from scipy.sparse import diags\n",
        "\n",
        "\n",
        "def A(x):\n",
        "    x = np.squeeze(x)\n",
        "    di = diags(np.power(1+G*x**2/delta**2, -0.5)).tocsc()\n",
        "    def mult_vect(y):\n",
        "        return H.T.dot(H.dot(y)) + lamb/delta**2 * G.T.dot(di.dot(G.dot(y)))\n",
        "    return LinearOperator((N, N), matvec=mult_vect, rmatvec=mult_vect)"
      ],
      "execution_count": 0,
      "outputs": []
    },
    {
      "metadata": {
        "id": "273c1jr_IurV",
        "colab_type": "code",
        "colab": {}
      },
      "cell_type": "code",
      "source": [
        "A(0*x)*0*grad"
      ],
      "execution_count": 0,
      "outputs": []
    },
    {
      "metadata": {
        "id": "tzDN6TKs4RvG",
        "colab_type": "text"
      },
      "cell_type": "markdown",
      "source": [
        "$\\underline{\\textbf{Q2.}}$ We propose basic MM algorithm with $\\theta_{n} = 1$ to to minimize $f$\n",
        "$$x_{n+1} = x_{n}  - \\theta_{n}A(x_{n})^{-1}\\nabla f(x_{n})$$"
      ]
    },
    {
      "metadata": {
        "id": "zjEQ3Nu34RvH",
        "colab_type": "code",
        "colab": {
          "base_uri": "https://localhost:8080/",
          "height": 1388
        },
        "outputId": "26ee64f3-0db8-49c1-b7dc-2df21105a04d"
      },
      "cell_type": "code",
      "source": [
        "def MM_quadratic(f,grad_f,invA,x0,L,N,y,G,H,lamb,delta):\n",
        "    grad = N*1e-4\n",
        "    x = x0\n",
        "    it = 0\n",
        "    itermax = 1000\n",
        "    objectives = []\n",
        "    times = [0]\n",
        "    \n",
        "    while grad > np.sqrt(N)*1e-4 and it <= itermax:         \n",
        "        t1 = time.time()\n",
        "        \n",
        "        gradient = grad_f(x,y,G,H,lamb,delta)\n",
        "        temp , info = scipy.sparse.linalg.bicg(A(x),gradient)\n",
        "        x = x - 0.5*temp.reshape(-1,1)\n",
        "        \n",
        "        grad = np.linalg.norm(gradient)\n",
        "        criterion = f(x,y,G,H,lamb,delta)        \n",
        "        objectives.append(criterion)\n",
        "        \n",
        "        if it%1 == 0:\n",
        "            print(\"Iteration {}, objective: {:.2E}, {}, {}\".format(it,Decimal(criterion),grad,0.5*np.linalg.norm(H*x - y)**2))        \n",
        "        t2 = time.time()\n",
        "        times.append(times[-1]+t2-t1)\n",
        "        it += 1\n",
        "    return x,objectives,times\n",
        "\n",
        "\n",
        "x_hat,objectives,times = MM_quadratic(f,grad_f,A,x0,L,N,y,G,H,lamb,delta)\n",
        "plt.figure()\n",
        "plt.semilogy(times[1:],objectives)\n",
        "plt.grid(which='both')\n",
        "print('\\nSignal to Noise Ratio:',SNR(x_hat,x))\n",
        "plt.figure()\n",
        "plt.imshow(x_hat.reshape(90,90).T,cmap = 'gray')"
      ],
      "execution_count": 70,
      "outputs": [
        {
          "output_type": "stream",
          "text": [
            "Iteration 0, objective: 6.82E+6, 449439.34615161543, 6818220.810819428\n",
            "Iteration 1, objective: 6.79E+6, 365428.3775925932, 6780330.419854177\n",
            "Iteration 2, objective: 6.70E+6, 357245.4182461794, 6670835.672219684\n",
            "Iteration 3, objective: 6.43E+6, 351813.10664705734, 6336736.141482607\n",
            "Iteration 4, objective: 5.74E+6, 339995.64931896917, 5469950.502557507\n"
          ],
          "name": "stdout"
        },
        {
          "output_type": "error",
          "ename": "KeyboardInterrupt",
          "evalue": "ignored",
          "traceback": [
            "\u001b[0;31m---------------------------------------------------------------------------\u001b[0m",
            "\u001b[0;31mKeyboardInterrupt\u001b[0m                         Traceback (most recent call last)",
            "\u001b[0;32m<ipython-input-70-359516bbf188>\u001b[0m in \u001b[0;36m<module>\u001b[0;34m()\u001b[0m\n\u001b[1;32m     26\u001b[0m \u001b[0;34m\u001b[0m\u001b[0m\n\u001b[1;32m     27\u001b[0m \u001b[0;34m\u001b[0m\u001b[0m\n\u001b[0;32m---> 28\u001b[0;31m \u001b[0mx_hat\u001b[0m\u001b[0;34m,\u001b[0m\u001b[0mobjectives\u001b[0m\u001b[0;34m,\u001b[0m\u001b[0mtimes\u001b[0m \u001b[0;34m=\u001b[0m \u001b[0mMM_quadratic\u001b[0m\u001b[0;34m(\u001b[0m\u001b[0mf\u001b[0m\u001b[0;34m,\u001b[0m\u001b[0mgrad_f\u001b[0m\u001b[0;34m,\u001b[0m\u001b[0mA\u001b[0m\u001b[0;34m,\u001b[0m\u001b[0mx0\u001b[0m\u001b[0;34m,\u001b[0m\u001b[0mL\u001b[0m\u001b[0;34m,\u001b[0m\u001b[0mN\u001b[0m\u001b[0;34m,\u001b[0m\u001b[0my\u001b[0m\u001b[0;34m,\u001b[0m\u001b[0mG\u001b[0m\u001b[0;34m,\u001b[0m\u001b[0mH\u001b[0m\u001b[0;34m,\u001b[0m\u001b[0mlamb\u001b[0m\u001b[0;34m,\u001b[0m\u001b[0mdelta\u001b[0m\u001b[0;34m)\u001b[0m\u001b[0;34m\u001b[0m\u001b[0;34m\u001b[0m\u001b[0m\n\u001b[0m\u001b[1;32m     29\u001b[0m \u001b[0mplt\u001b[0m\u001b[0;34m.\u001b[0m\u001b[0mfigure\u001b[0m\u001b[0;34m(\u001b[0m\u001b[0;34m)\u001b[0m\u001b[0;34m\u001b[0m\u001b[0;34m\u001b[0m\u001b[0m\n\u001b[1;32m     30\u001b[0m \u001b[0mplt\u001b[0m\u001b[0;34m.\u001b[0m\u001b[0msemilogy\u001b[0m\u001b[0;34m(\u001b[0m\u001b[0mtimes\u001b[0m\u001b[0;34m[\u001b[0m\u001b[0;36m1\u001b[0m\u001b[0;34m:\u001b[0m\u001b[0;34m]\u001b[0m\u001b[0;34m,\u001b[0m\u001b[0mobjectives\u001b[0m\u001b[0;34m)\u001b[0m\u001b[0;34m\u001b[0m\u001b[0;34m\u001b[0m\u001b[0m\n",
            "\u001b[0;32m<ipython-input-70-359516bbf188>\u001b[0m in \u001b[0;36mMM_quadratic\u001b[0;34m(f, grad_f, invA, x0, L, N, y, G, H, lamb, delta)\u001b[0m\n\u001b[1;32m     11\u001b[0m \u001b[0;34m\u001b[0m\u001b[0m\n\u001b[1;32m     12\u001b[0m         \u001b[0mgradient\u001b[0m \u001b[0;34m=\u001b[0m \u001b[0mgrad_f\u001b[0m\u001b[0;34m(\u001b[0m\u001b[0mx\u001b[0m\u001b[0;34m,\u001b[0m\u001b[0my\u001b[0m\u001b[0;34m,\u001b[0m\u001b[0mG\u001b[0m\u001b[0;34m,\u001b[0m\u001b[0mH\u001b[0m\u001b[0;34m,\u001b[0m\u001b[0mlamb\u001b[0m\u001b[0;34m,\u001b[0m\u001b[0mdelta\u001b[0m\u001b[0;34m)\u001b[0m\u001b[0;34m\u001b[0m\u001b[0;34m\u001b[0m\u001b[0m\n\u001b[0;32m---> 13\u001b[0;31m         \u001b[0mtemp\u001b[0m \u001b[0;34m,\u001b[0m \u001b[0minfo\u001b[0m \u001b[0;34m=\u001b[0m \u001b[0mscipy\u001b[0m\u001b[0;34m.\u001b[0m\u001b[0msparse\u001b[0m\u001b[0;34m.\u001b[0m\u001b[0mlinalg\u001b[0m\u001b[0;34m.\u001b[0m\u001b[0mbicg\u001b[0m\u001b[0;34m(\u001b[0m\u001b[0mA\u001b[0m\u001b[0;34m(\u001b[0m\u001b[0mx\u001b[0m\u001b[0;34m)\u001b[0m\u001b[0;34m,\u001b[0m\u001b[0mgradient\u001b[0m\u001b[0;34m)\u001b[0m\u001b[0;34m\u001b[0m\u001b[0;34m\u001b[0m\u001b[0m\n\u001b[0m\u001b[1;32m     14\u001b[0m         \u001b[0mx\u001b[0m \u001b[0;34m=\u001b[0m \u001b[0mx\u001b[0m \u001b[0;34m-\u001b[0m \u001b[0;36m0.5\u001b[0m\u001b[0;34m*\u001b[0m\u001b[0mtemp\u001b[0m\u001b[0;34m.\u001b[0m\u001b[0mreshape\u001b[0m\u001b[0;34m(\u001b[0m\u001b[0;34m-\u001b[0m\u001b[0;36m1\u001b[0m\u001b[0;34m,\u001b[0m\u001b[0;36m1\u001b[0m\u001b[0;34m)\u001b[0m\u001b[0;34m\u001b[0m\u001b[0;34m\u001b[0m\u001b[0m\n\u001b[1;32m     15\u001b[0m \u001b[0;34m\u001b[0m\u001b[0m\n",
            "\u001b[0;32m/usr/local/lib/python3.6/dist-packages/scipy/sparse/linalg/isolve/iterative.py\u001b[0m in \u001b[0;36mbicg\u001b[0;34m(A, b, x0, tol, maxiter, M, callback, atol)\u001b[0m\n",
            "\u001b[0;32m/usr/local/lib/python3.6/dist-packages/scipy/_lib/_threadsafety.py\u001b[0m in \u001b[0;36mcaller\u001b[0;34m(func, *a, **kw)\u001b[0m\n\u001b[1;32m     44\u001b[0m         \u001b[0;32mdef\u001b[0m \u001b[0mcaller\u001b[0m\u001b[0;34m(\u001b[0m\u001b[0mfunc\u001b[0m\u001b[0;34m,\u001b[0m \u001b[0;34m*\u001b[0m\u001b[0ma\u001b[0m\u001b[0;34m,\u001b[0m \u001b[0;34m**\u001b[0m\u001b[0mkw\u001b[0m\u001b[0;34m)\u001b[0m\u001b[0;34m:\u001b[0m\u001b[0;34m\u001b[0m\u001b[0;34m\u001b[0m\u001b[0m\n\u001b[1;32m     45\u001b[0m             \u001b[0;32mwith\u001b[0m \u001b[0mself\u001b[0m\u001b[0;34m:\u001b[0m\u001b[0;34m\u001b[0m\u001b[0;34m\u001b[0m\u001b[0m\n\u001b[0;32m---> 46\u001b[0;31m                 \u001b[0;32mreturn\u001b[0m \u001b[0mfunc\u001b[0m\u001b[0;34m(\u001b[0m\u001b[0;34m*\u001b[0m\u001b[0ma\u001b[0m\u001b[0;34m,\u001b[0m \u001b[0;34m**\u001b[0m\u001b[0mkw\u001b[0m\u001b[0;34m)\u001b[0m\u001b[0;34m\u001b[0m\u001b[0;34m\u001b[0m\u001b[0m\n\u001b[0m\u001b[1;32m     47\u001b[0m         \u001b[0;32mreturn\u001b[0m \u001b[0mscipy\u001b[0m\u001b[0;34m.\u001b[0m\u001b[0m_lib\u001b[0m\u001b[0;34m.\u001b[0m\u001b[0mdecorator\u001b[0m\u001b[0;34m.\u001b[0m\u001b[0mdecorate\u001b[0m\u001b[0;34m(\u001b[0m\u001b[0mfunc\u001b[0m\u001b[0;34m,\u001b[0m \u001b[0mcaller\u001b[0m\u001b[0;34m)\u001b[0m\u001b[0;34m\u001b[0m\u001b[0;34m\u001b[0m\u001b[0m\n\u001b[1;32m     48\u001b[0m \u001b[0;34m\u001b[0m\u001b[0m\n",
            "\u001b[0;32m/usr/local/lib/python3.6/dist-packages/scipy/sparse/linalg/isolve/iterative.py\u001b[0m in \u001b[0;36mbicg\u001b[0;34m(A, b, x0, tol, maxiter, M, callback, atol)\u001b[0m\n\u001b[1;32m    177\u001b[0m         \u001b[0;32melif\u001b[0m \u001b[0;34m(\u001b[0m\u001b[0mijob\u001b[0m \u001b[0;34m==\u001b[0m \u001b[0;36m2\u001b[0m\u001b[0;34m)\u001b[0m\u001b[0;34m:\u001b[0m\u001b[0;34m\u001b[0m\u001b[0;34m\u001b[0m\u001b[0m\n\u001b[1;32m    178\u001b[0m             \u001b[0mwork\u001b[0m\u001b[0;34m[\u001b[0m\u001b[0mslice2\u001b[0m\u001b[0;34m]\u001b[0m \u001b[0;34m*=\u001b[0m \u001b[0msclr2\u001b[0m\u001b[0;34m\u001b[0m\u001b[0;34m\u001b[0m\u001b[0m\n\u001b[0;32m--> 179\u001b[0;31m             \u001b[0mwork\u001b[0m\u001b[0;34m[\u001b[0m\u001b[0mslice2\u001b[0m\u001b[0;34m]\u001b[0m \u001b[0;34m+=\u001b[0m \u001b[0msclr1\u001b[0m\u001b[0;34m*\u001b[0m\u001b[0mrmatvec\u001b[0m\u001b[0;34m(\u001b[0m\u001b[0mwork\u001b[0m\u001b[0;34m[\u001b[0m\u001b[0mslice1\u001b[0m\u001b[0;34m]\u001b[0m\u001b[0;34m)\u001b[0m\u001b[0;34m\u001b[0m\u001b[0;34m\u001b[0m\u001b[0m\n\u001b[0m\u001b[1;32m    180\u001b[0m         \u001b[0;32melif\u001b[0m \u001b[0;34m(\u001b[0m\u001b[0mijob\u001b[0m \u001b[0;34m==\u001b[0m \u001b[0;36m3\u001b[0m\u001b[0;34m)\u001b[0m\u001b[0;34m:\u001b[0m\u001b[0;34m\u001b[0m\u001b[0;34m\u001b[0m\u001b[0m\n\u001b[1;32m    181\u001b[0m             \u001b[0mwork\u001b[0m\u001b[0;34m[\u001b[0m\u001b[0mslice1\u001b[0m\u001b[0;34m]\u001b[0m \u001b[0;34m=\u001b[0m \u001b[0mpsolve\u001b[0m\u001b[0;34m(\u001b[0m\u001b[0mwork\u001b[0m\u001b[0;34m[\u001b[0m\u001b[0mslice2\u001b[0m\u001b[0;34m]\u001b[0m\u001b[0;34m)\u001b[0m\u001b[0;34m\u001b[0m\u001b[0;34m\u001b[0m\u001b[0m\n",
            "\u001b[0;32m/usr/local/lib/python3.6/dist-packages/scipy/sparse/linalg/interface.py\u001b[0m in \u001b[0;36mrmatvec\u001b[0;34m(self, x)\u001b[0m\n\u001b[1;32m    264\u001b[0m             \u001b[0;32mraise\u001b[0m \u001b[0mValueError\u001b[0m\u001b[0;34m(\u001b[0m\u001b[0;34m'dimension mismatch'\u001b[0m\u001b[0;34m)\u001b[0m\u001b[0;34m\u001b[0m\u001b[0;34m\u001b[0m\u001b[0m\n\u001b[1;32m    265\u001b[0m \u001b[0;34m\u001b[0m\u001b[0m\n\u001b[0;32m--> 266\u001b[0;31m         \u001b[0my\u001b[0m \u001b[0;34m=\u001b[0m \u001b[0mself\u001b[0m\u001b[0;34m.\u001b[0m\u001b[0m_rmatvec\u001b[0m\u001b[0;34m(\u001b[0m\u001b[0mx\u001b[0m\u001b[0;34m)\u001b[0m\u001b[0;34m\u001b[0m\u001b[0;34m\u001b[0m\u001b[0m\n\u001b[0m\u001b[1;32m    267\u001b[0m \u001b[0;34m\u001b[0m\u001b[0m\n\u001b[1;32m    268\u001b[0m         \u001b[0;32mif\u001b[0m \u001b[0misinstance\u001b[0m\u001b[0;34m(\u001b[0m\u001b[0mx\u001b[0m\u001b[0;34m,\u001b[0m \u001b[0mnp\u001b[0m\u001b[0;34m.\u001b[0m\u001b[0mmatrix\u001b[0m\u001b[0;34m)\u001b[0m\u001b[0;34m:\u001b[0m\u001b[0;34m\u001b[0m\u001b[0;34m\u001b[0m\u001b[0m\n",
            "\u001b[0;32m/usr/local/lib/python3.6/dist-packages/scipy/sparse/linalg/interface.py\u001b[0m in \u001b[0;36m_rmatvec\u001b[0;34m(self, x)\u001b[0m\n\u001b[1;32m    475\u001b[0m         \u001b[0;32mif\u001b[0m \u001b[0mfunc\u001b[0m \u001b[0;32mis\u001b[0m \u001b[0;32mNone\u001b[0m\u001b[0;34m:\u001b[0m\u001b[0;34m\u001b[0m\u001b[0;34m\u001b[0m\u001b[0m\n\u001b[1;32m    476\u001b[0m             \u001b[0;32mraise\u001b[0m \u001b[0mNotImplementedError\u001b[0m\u001b[0;34m(\u001b[0m\u001b[0;34m\"rmatvec is not defined\"\u001b[0m\u001b[0;34m)\u001b[0m\u001b[0;34m\u001b[0m\u001b[0;34m\u001b[0m\u001b[0m\n\u001b[0;32m--> 477\u001b[0;31m         \u001b[0;32mreturn\u001b[0m \u001b[0mself\u001b[0m\u001b[0;34m.\u001b[0m\u001b[0m__rmatvec_impl\u001b[0m\u001b[0;34m(\u001b[0m\u001b[0mx\u001b[0m\u001b[0;34m)\u001b[0m\u001b[0;34m\u001b[0m\u001b[0;34m\u001b[0m\u001b[0m\n\u001b[0m\u001b[1;32m    478\u001b[0m \u001b[0;34m\u001b[0m\u001b[0m\n\u001b[1;32m    479\u001b[0m     \u001b[0;32mdef\u001b[0m \u001b[0m_adjoint\u001b[0m\u001b[0;34m(\u001b[0m\u001b[0mself\u001b[0m\u001b[0;34m)\u001b[0m\u001b[0;34m:\u001b[0m\u001b[0;34m\u001b[0m\u001b[0;34m\u001b[0m\u001b[0m\n",
            "\u001b[0;32m<ipython-input-69-35f6c1ed64c1>\u001b[0m in \u001b[0;36mmult_vect\u001b[0;34m(y)\u001b[0m\n\u001b[1;32m      7\u001b[0m     \u001b[0mdi\u001b[0m \u001b[0;34m=\u001b[0m \u001b[0mdiags\u001b[0m\u001b[0;34m(\u001b[0m\u001b[0mnp\u001b[0m\u001b[0;34m.\u001b[0m\u001b[0mpower\u001b[0m\u001b[0;34m(\u001b[0m\u001b[0;36m1\u001b[0m\u001b[0;34m+\u001b[0m\u001b[0mG\u001b[0m\u001b[0;34m*\u001b[0m\u001b[0mx\u001b[0m\u001b[0;34m**\u001b[0m\u001b[0;36m2\u001b[0m\u001b[0;34m/\u001b[0m\u001b[0mdelta\u001b[0m\u001b[0;34m**\u001b[0m\u001b[0;36m2\u001b[0m\u001b[0;34m,\u001b[0m \u001b[0;34m-\u001b[0m\u001b[0;36m0.5\u001b[0m\u001b[0;34m)\u001b[0m\u001b[0;34m)\u001b[0m\u001b[0;34m.\u001b[0m\u001b[0mtocsc\u001b[0m\u001b[0;34m(\u001b[0m\u001b[0;34m)\u001b[0m\u001b[0;34m\u001b[0m\u001b[0;34m\u001b[0m\u001b[0m\n\u001b[1;32m      8\u001b[0m     \u001b[0;32mdef\u001b[0m \u001b[0mmult_vect\u001b[0m\u001b[0;34m(\u001b[0m\u001b[0my\u001b[0m\u001b[0;34m)\u001b[0m\u001b[0;34m:\u001b[0m\u001b[0;34m\u001b[0m\u001b[0;34m\u001b[0m\u001b[0m\n\u001b[0;32m----> 9\u001b[0;31m         \u001b[0;32mreturn\u001b[0m \u001b[0mH\u001b[0m\u001b[0;34m.\u001b[0m\u001b[0mT\u001b[0m\u001b[0;34m.\u001b[0m\u001b[0mdot\u001b[0m\u001b[0;34m(\u001b[0m\u001b[0mH\u001b[0m\u001b[0;34m.\u001b[0m\u001b[0mdot\u001b[0m\u001b[0;34m(\u001b[0m\u001b[0my\u001b[0m\u001b[0;34m)\u001b[0m\u001b[0;34m)\u001b[0m \u001b[0;34m+\u001b[0m \u001b[0mlamb\u001b[0m\u001b[0;34m/\u001b[0m\u001b[0mdelta\u001b[0m\u001b[0;34m**\u001b[0m\u001b[0;36m2\u001b[0m \u001b[0;34m*\u001b[0m \u001b[0mG\u001b[0m\u001b[0;34m.\u001b[0m\u001b[0mT\u001b[0m\u001b[0;34m.\u001b[0m\u001b[0mdot\u001b[0m\u001b[0;34m(\u001b[0m\u001b[0mdi\u001b[0m\u001b[0;34m.\u001b[0m\u001b[0mdot\u001b[0m\u001b[0;34m(\u001b[0m\u001b[0mG\u001b[0m\u001b[0;34m.\u001b[0m\u001b[0mdot\u001b[0m\u001b[0;34m(\u001b[0m\u001b[0my\u001b[0m\u001b[0;34m)\u001b[0m\u001b[0;34m)\u001b[0m\u001b[0;34m)\u001b[0m\u001b[0;34m\u001b[0m\u001b[0;34m\u001b[0m\u001b[0m\n\u001b[0m\u001b[1;32m     10\u001b[0m     \u001b[0;32mreturn\u001b[0m \u001b[0mLinearOperator\u001b[0m\u001b[0;34m(\u001b[0m\u001b[0;34m(\u001b[0m\u001b[0mN\u001b[0m\u001b[0;34m,\u001b[0m \u001b[0mN\u001b[0m\u001b[0;34m)\u001b[0m\u001b[0;34m,\u001b[0m \u001b[0mmatvec\u001b[0m\u001b[0;34m=\u001b[0m\u001b[0mmult_vect\u001b[0m\u001b[0;34m,\u001b[0m \u001b[0mrmatvec\u001b[0m\u001b[0;34m=\u001b[0m\u001b[0mmult_vect\u001b[0m\u001b[0;34m)\u001b[0m\u001b[0;34m\u001b[0m\u001b[0;34m\u001b[0m\u001b[0m\n",
            "\u001b[0;32m/usr/local/lib/python3.6/dist-packages/scipy/sparse/base.py\u001b[0m in \u001b[0;36mdot\u001b[0;34m(self, other)\u001b[0m\n\u001b[1;32m    359\u001b[0m \u001b[0;34m\u001b[0m\u001b[0m\n\u001b[1;32m    360\u001b[0m         \"\"\"\n\u001b[0;32m--> 361\u001b[0;31m         \u001b[0;32mreturn\u001b[0m \u001b[0mself\u001b[0m \u001b[0;34m*\u001b[0m \u001b[0mother\u001b[0m\u001b[0;34m\u001b[0m\u001b[0;34m\u001b[0m\u001b[0m\n\u001b[0m\u001b[1;32m    362\u001b[0m \u001b[0;34m\u001b[0m\u001b[0m\n\u001b[1;32m    363\u001b[0m     \u001b[0;32mdef\u001b[0m \u001b[0mpower\u001b[0m\u001b[0;34m(\u001b[0m\u001b[0mself\u001b[0m\u001b[0;34m,\u001b[0m \u001b[0mn\u001b[0m\u001b[0;34m,\u001b[0m \u001b[0mdtype\u001b[0m\u001b[0;34m=\u001b[0m\u001b[0;32mNone\u001b[0m\u001b[0;34m)\u001b[0m\u001b[0;34m:\u001b[0m\u001b[0;34m\u001b[0m\u001b[0;34m\u001b[0m\u001b[0m\n",
            "\u001b[0;32m/usr/local/lib/python3.6/dist-packages/scipy/sparse/base.py\u001b[0m in \u001b[0;36m__mul__\u001b[0;34m(self, other)\u001b[0m\n\u001b[1;32m    464\u001b[0m             \u001b[0;31m# Fast path for the most common case\u001b[0m\u001b[0;34m\u001b[0m\u001b[0;34m\u001b[0m\u001b[0;34m\u001b[0m\u001b[0m\n\u001b[1;32m    465\u001b[0m             \u001b[0;32mif\u001b[0m \u001b[0mother\u001b[0m\u001b[0;34m.\u001b[0m\u001b[0mshape\u001b[0m \u001b[0;34m==\u001b[0m \u001b[0;34m(\u001b[0m\u001b[0mN\u001b[0m\u001b[0;34m,\u001b[0m\u001b[0;34m)\u001b[0m\u001b[0;34m:\u001b[0m\u001b[0;34m\u001b[0m\u001b[0;34m\u001b[0m\u001b[0m\n\u001b[0;32m--> 466\u001b[0;31m                 \u001b[0;32mreturn\u001b[0m \u001b[0mself\u001b[0m\u001b[0;34m.\u001b[0m\u001b[0m_mul_vector\u001b[0m\u001b[0;34m(\u001b[0m\u001b[0mother\u001b[0m\u001b[0;34m)\u001b[0m\u001b[0;34m\u001b[0m\u001b[0;34m\u001b[0m\u001b[0m\n\u001b[0m\u001b[1;32m    467\u001b[0m             \u001b[0;32melif\u001b[0m \u001b[0mother\u001b[0m\u001b[0;34m.\u001b[0m\u001b[0mshape\u001b[0m \u001b[0;34m==\u001b[0m \u001b[0;34m(\u001b[0m\u001b[0mN\u001b[0m\u001b[0;34m,\u001b[0m \u001b[0;36m1\u001b[0m\u001b[0;34m)\u001b[0m\u001b[0;34m:\u001b[0m\u001b[0;34m\u001b[0m\u001b[0;34m\u001b[0m\u001b[0m\n\u001b[1;32m    468\u001b[0m                 \u001b[0;32mreturn\u001b[0m \u001b[0mself\u001b[0m\u001b[0;34m.\u001b[0m\u001b[0m_mul_vector\u001b[0m\u001b[0;34m(\u001b[0m\u001b[0mother\u001b[0m\u001b[0;34m.\u001b[0m\u001b[0mravel\u001b[0m\u001b[0;34m(\u001b[0m\u001b[0;34m)\u001b[0m\u001b[0;34m)\u001b[0m\u001b[0;34m.\u001b[0m\u001b[0mreshape\u001b[0m\u001b[0;34m(\u001b[0m\u001b[0mM\u001b[0m\u001b[0;34m,\u001b[0m \u001b[0;36m1\u001b[0m\u001b[0;34m)\u001b[0m\u001b[0;34m\u001b[0m\u001b[0;34m\u001b[0m\u001b[0m\n",
            "\u001b[0;32m/usr/local/lib/python3.6/dist-packages/scipy/sparse/compressed.py\u001b[0m in \u001b[0;36m_mul_vector\u001b[0;34m(self, other)\u001b[0m\n\u001b[1;32m    458\u001b[0m         \u001b[0;31m# csr_matvec or csc_matvec\u001b[0m\u001b[0;34m\u001b[0m\u001b[0;34m\u001b[0m\u001b[0;34m\u001b[0m\u001b[0m\n\u001b[1;32m    459\u001b[0m         \u001b[0mfn\u001b[0m \u001b[0;34m=\u001b[0m \u001b[0mgetattr\u001b[0m\u001b[0;34m(\u001b[0m\u001b[0m_sparsetools\u001b[0m\u001b[0;34m,\u001b[0m\u001b[0mself\u001b[0m\u001b[0;34m.\u001b[0m\u001b[0mformat\u001b[0m \u001b[0;34m+\u001b[0m \u001b[0;34m'_matvec'\u001b[0m\u001b[0;34m)\u001b[0m\u001b[0;34m\u001b[0m\u001b[0;34m\u001b[0m\u001b[0m\n\u001b[0;32m--> 460\u001b[0;31m         \u001b[0mfn\u001b[0m\u001b[0;34m(\u001b[0m\u001b[0mM\u001b[0m\u001b[0;34m,\u001b[0m \u001b[0mN\u001b[0m\u001b[0;34m,\u001b[0m \u001b[0mself\u001b[0m\u001b[0;34m.\u001b[0m\u001b[0mindptr\u001b[0m\u001b[0;34m,\u001b[0m \u001b[0mself\u001b[0m\u001b[0;34m.\u001b[0m\u001b[0mindices\u001b[0m\u001b[0;34m,\u001b[0m \u001b[0mself\u001b[0m\u001b[0;34m.\u001b[0m\u001b[0mdata\u001b[0m\u001b[0;34m,\u001b[0m \u001b[0mother\u001b[0m\u001b[0;34m,\u001b[0m \u001b[0mresult\u001b[0m\u001b[0;34m)\u001b[0m\u001b[0;34m\u001b[0m\u001b[0;34m\u001b[0m\u001b[0m\n\u001b[0m\u001b[1;32m    461\u001b[0m \u001b[0;34m\u001b[0m\u001b[0m\n\u001b[1;32m    462\u001b[0m         \u001b[0;32mreturn\u001b[0m \u001b[0mresult\u001b[0m\u001b[0;34m\u001b[0m\u001b[0;34m\u001b[0m\u001b[0m\n",
            "\u001b[0;31mKeyboardInterrupt\u001b[0m: "
          ]
        }
      ]
    },
    {
      "metadata": {
        "id": "YGeDggEc4RvM",
        "colab_type": "text"
      },
      "cell_type": "markdown",
      "source": [
        "### 3.3. 3MG  algorithm"
      ]
    },
    {
      "metadata": {
        "id": "KGiTI5CC4RvM",
        "colab_type": "code",
        "colab": {}
      },
      "cell_type": "code",
      "source": [
        "def MMMG(f,grad_f,A,x0,L,N,y,G,H,lamb,delta,HH):\n",
        "    gamma = 1/L\n",
        "    grad = N*1e-4\n",
        "    x = x0\n",
        "    it = 0\n",
        "    itermax = 10\n",
        "    objectives = []\n",
        "    times = [0]\n",
        "    \n",
        "    while grad > np.sqrt(N)*1e-4 and it <= itermax: \n",
        "        t1 = time.time()\n",
        "        gradient = grad_f(x,y,G,H,lamb,delta)\n",
        "        if it == 0:\n",
        "            D = - gradient\n",
        "        else:\n",
        "            D = np.concatenate((-gradient,diff),axis=1)\n",
        "        \n",
        "        temp = np.dot(np.dot(D.T,A(x,G,HH,lamb,delta)),D)\n",
        "        u = - np.dot(np.linalg.pinv(temp),np.dot(D.T,gradient))\n",
        "        x = x + np.dot(D,u)\n",
        "        grad = np.linalg.norm(gradient)\n",
        "        criterion = f(x,y,G,H,lamb,delta)        \n",
        "        objectives.append(criterion)\n",
        "        \n",
        "        if it%1 == 0:\n",
        "            print(\"Iteration {}, objective: {:.2E}, {}\".format(it,Decimal(criterion),grad))        \n",
        "        t2 = time.time()\n",
        "        times.append(times[-1]+t2-t1)\n",
        "        diff = np.dot(D,u)\n",
        "        it += 1\n",
        "    return x,objectives,times\n",
        "        \n",
        "x_hat,objectives,times = MMMG(f,grad_f,A,x0,L,N,y,G,H,lamb,delta,HH)\n",
        "plt.figure()\n",
        "plt.semilogy(times[1:],objectives)\n",
        "plt.grid(which='both')\n",
        "print('\\nSignal to Noise Ratio:',SNR(x_hat,x))\n",
        "plt.figure()\n",
        "plt.imshow(x_hat.reshape(90,90).T,cmap = 'gray')"
      ],
      "execution_count": 0,
      "outputs": []
    },
    {
      "metadata": {
        "id": "Z62fYNCm4Rv0",
        "colab_type": "text"
      },
      "cell_type": "markdown",
      "source": [
        "## 3.4 Block-coordinate MM quadratic algorithm"
      ]
    },
    {
      "metadata": {
        "id": "vrBH1G8U4Rxm",
        "colab_type": "code",
        "colab": {}
      },
      "cell_type": "code",
      "source": [
        "def MM_block(f,grad_f,invA,x0,L,N,y,G,H,lamb,delta,J,Nj):\n",
        "    grad = N*1e-4\n",
        "    x = x0\n",
        "    it = 0\n",
        "    itermax = 10\n",
        "    objectives = []\n",
        "    times = [0]\n",
        "    \n",
        "    while grad > np.sqrt(N)*1e-4 and it <= itermax:   \n",
        "        j = it%J + 1\n",
        "        \n",
        "        t1 = time.time()\n",
        "        gradient = grad_f(x,y,G,H,lamb,delta)[Nj*(j-1):J*Nj+1]\n",
        "        \n",
        "\n",
        "        x[Nj*(j-1):J*Nj+1] = x[Nj*(j-1):J*Nj+1] - np.linalg.solve(A(x,G,H,lamb,delta)[Nj*(j-1):J*Nj+1,Nj*(j-1):J*Nj+1],gradient)\n",
        "        \n",
        "        grad = np.linalg.norm(gradient)\n",
        "        criterion = f(x,y,G,H,lamb,delta)        \n",
        "        objectives.append(criterion)\n",
        "        \n",
        "        if it%1 == 0:\n",
        "            print(\"Iteration {}, objective: {:.2E}, {}, {}\".format(it,Decimal(criterion),grad,0.5*np.linalg.norm(H*x - y)**2))        \n",
        "        t2 = time.time()\n",
        "        times.append(times[-1]+t2-t1)\n",
        "        it += 1\n",
        "    return x,objectives,times\n",
        "        \n",
        "x_hat,objectives,times = MM_block(f,grad_f,A,x0,L,N,y,G,H,lamb,delta,2,N//2)\n",
        "plt.figure()\n",
        "plt.semilogy(times[1:],objectives)\n",
        "plt.grid(which='both')\n",
        "print('\\nSignal to Noise Ratio:',SNR(x_hat,x))\n",
        "plt.figure()\n",
        "plt.imshow(x_hat.reshape(90,90).T,cmap = 'gray')"
      ],
      "execution_count": 0,
      "outputs": []
    },
    {
      "metadata": {
        "id": "e8J53me94Rxq",
        "colab_type": "text"
      },
      "cell_type": "markdown",
      "source": [
        "### 3.5.  Parallel MM quadratic algorithm"
      ]
    },
    {
      "metadata": {
        "id": "FAt3OwUm4Rxr",
        "colab_type": "code",
        "colab": {}
      },
      "cell_type": "code",
      "source": [
        "def MM_parallel(f,grad_f,invA,x0,L,N,y,G,H,lamb,delta):\n",
        "    grad = N*1e-4\n",
        "    x = x0\n",
        "    it = 0\n",
        "    itermax = 10\n",
        "    objectives = []\n",
        "    times = [0]\n",
        "    \n",
        "    while grad > np.sqrt(N)*1e-4 and it <= itermax:   \n",
        "        j = it%J + 1\n",
        "        \n",
        "        t1 = time.time()\n",
        "        gradient = grad_f(x,y,G,H,lamb,delta)[Nj*(j-1):J*Nj+1]\n",
        "        \n",
        "        #x = x - 1.99*np.dot(invA,gradient)\n",
        "        #x = x - 1*scipy.sparse.linalg.bicg(A(x,y,G,H,lamb,delta),gradient)\n",
        "        x[Nj*(j-1):J*Nj+1] = x[Nj*(j-1):J*Nj+1] - 1.99*np.linalg.solve(A(x,G,H,lamb,delta)[Nj*(j-1):J*Nj+1,Nj*(j-1):J*Nj+1],gradient)\n",
        "        #x = x - 1.99*np.linalg.lstsq(A(x,y,G,H,lamb,delta),gradient,rcond=None)\n",
        "        grad = np.linalg.norm(gradient)\n",
        "        criterion = f(x,y,G,H,lamb,delta)        \n",
        "        objectives.append(criterion)\n",
        "        \n",
        "        if it%1 == 0:\n",
        "            print(\"Iteration {}, objective: {:.2E}, {}, {}\".format(it,Decimal(criterion),grad,0.5*np.linalg.norm(H*x - y)**2))        \n",
        "        t2 = time.time()\n",
        "        times.append(times[-1]+t2-t1)\n",
        "        it += 1\n",
        "    return x,objectives,times\n",
        "        \n",
        "x_hat,objectives,times = MM_parallel(f,grad_f,A,x0,L,N,y,G,H,lamb,delta)\n",
        "plt.figure()\n",
        "plt.semilogy(times[1:],objectives)\n",
        "plt.grid(which='both')\n",
        "print('\\nSignal to Noise Ratio:',SNR(x_hat,x))\n",
        "plt.figure()\n",
        "plt.imshow(x_hat.reshape(90,90).T,cmap = 'gray')"
      ],
      "execution_count": 0,
      "outputs": []
    }
  ]
}