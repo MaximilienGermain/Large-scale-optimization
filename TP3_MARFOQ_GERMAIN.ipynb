{
  "nbformat": 4,
  "nbformat_minor": 0,
  "metadata": {
    "colab": {
      "name": "TP3_MARFOQ_GERMAIN.ipynb",
      "version": "0.3.2",
      "provenance": [],
      "collapsed_sections": []
    },
    "kernelspec": {
      "name": "python3",
      "display_name": "Python 3"
    },
    "accelerator": "GPU"
  },
  "cells": [
    {
      "metadata": {
        "id": "FTrOVUdW4Rtv",
        "colab_type": "code",
        "colab": {}
      },
      "cell_type": "code",
      "source": [
        "import numpy as np\n",
        "from scipy.io import loadmat\n",
        "import scipy\n",
        "from scipy.sparse import linalg\n",
        "import matplotlib.pyplot as plt\n",
        "from decimal import Decimal\n",
        "import time\n",
        "import matplotlib.pyplot as plt\n",
        "import random\n",
        "import scipy.io as sio"
      ],
      "execution_count": 0,
      "outputs": []
    },
    {
      "metadata": {
        "id": "Cq_W8l7o4Yr5",
        "colab_type": "code",
        "outputId": "a2186351-901e-44b5-891c-885c88d4e8aa",
        "colab": {
          "base_uri": "https://localhost:8080/",
          "height": 34
        }
      },
      "cell_type": "code",
      "source": [
        "from google.colab import drive\n",
        "drive.mount(\"/content/gdrive\", force_remount=True)"
      ],
      "execution_count": 2,
      "outputs": [
        {
          "output_type": "stream",
          "text": [
            "Mounted at /content/gdrive\n"
          ],
          "name": "stdout"
        }
      ]
    },
    {
      "metadata": {
        "id": "5POpF8AY4Rt6",
        "colab_type": "text"
      },
      "cell_type": "markdown",
      "source": [
        "# Image reconstruction in X-ray tomography"
      ]
    },
    {
      "metadata": {
        "id": "dfb4q92U4Rt7",
        "colab_type": "text"
      },
      "cell_type": "markdown",
      "source": [
        "## 1 X-ray tomography"
      ]
    },
    {
      "metadata": {
        "id": "oqhW1Nwx4Rt8",
        "colab_type": "text"
      },
      "cell_type": "markdown",
      "source": [
        "$\\underline{\\textbf{Q1.}}$ We start by loading the matrix $H$ and the image matrix $\\bar{x}$"
      ]
    },
    {
      "metadata": {
        "id": "xaaHFbYw4jMB",
        "colab_type": "code",
        "colab": {}
      },
      "cell_type": "code",
      "source": [
        "path = 'gdrive/My Drive/MVA/Large_Scale_Optim/'"
      ],
      "execution_count": 0,
      "outputs": []
    },
    {
      "metadata": {
        "id": "gyy2bfyJ4Rt8",
        "colab_type": "code",
        "colab": {}
      },
      "cell_type": "code",
      "source": [
        "x = loadmat(path + \"data/x.mat\")['x']\n",
        "H = loadmat(path + \"data/H.mat\")['H']\n",
        "G = loadmat(path + \"data/G.mat\")['G']"
      ],
      "execution_count": 0,
      "outputs": []
    },
    {
      "metadata": {
        "id": "_GBMpRbG4RuC",
        "colab_type": "text"
      },
      "cell_type": "markdown",
      "source": [
        "$\\underline{\\textbf{Q2.}}$ Let's Construct y using such that:\n",
        "$$y = H\\bar{x} + \\omega $$\n",
        "where $\\omega \\in \\mathbb{R}^{M}$ is an i.i.d Gaussian noise with variance $\\sigma^{2}$"
      ]
    },
    {
      "metadata": {
        "id": "qCDC84HE4RuF",
        "colab_type": "code",
        "colab": {}
      },
      "cell_type": "code",
      "source": [
        "M = H.shape[0]\n",
        "N = x.shape[0]\n",
        "\n",
        "sigma = 1\n",
        "lamb = 0.13\n",
        "delta = 0.02\n",
        "\n",
        "w = np.random.normal(scale = sigma, size=(M,1))\n",
        "y = H*x+w"
      ],
      "execution_count": 0,
      "outputs": []
    },
    {
      "metadata": {
        "id": "lOpknfG74RuI",
        "colab_type": "text"
      },
      "cell_type": "markdown",
      "source": [
        "$\\underline{\\textbf{Q3.}}$ Let's visualize the image $\\bar{x}$, and a 2D version of $y$"
      ]
    },
    {
      "metadata": {
        "id": "kW__TvFP4RuJ",
        "colab_type": "code",
        "outputId": "4b9c9ce9-096b-4274-cb0e-ece4554a29b9",
        "colab": {
          "base_uri": "https://localhost:8080/",
          "height": 366
        }
      },
      "cell_type": "code",
      "source": [
        "plt.imshow(x.reshape(90,90).T,cmap = 'gray')"
      ],
      "execution_count": 6,
      "outputs": [
        {
          "output_type": "execute_result",
          "data": {
            "text/plain": [
              "<matplotlib.image.AxesImage at 0x7f0ec0c5e8d0>"
            ]
          },
          "metadata": {
            "tags": []
          },
          "execution_count": 6
        },
        {
          "output_type": "display_data",
          "data": {
            "image/png": "[encoded data removed]",
            "text/plain": [
              "<Figure size 576x396 with 1 Axes>"
            ]
          },
          "metadata": {
            "tags": []
          }
        }
      ]
    },
    {
      "metadata": {
        "id": "cXit9GTO4RuO",
        "colab_type": "code",
        "outputId": "42a929a8-6f06-4dd7-f6ab-f26840655ff6",
        "colab": {
          "base_uri": "https://localhost:8080/",
          "height": 290
        }
      },
      "cell_type": "code",
      "source": [
        "plt.imshow(y.reshape(180,90).T,cmap = 'gray')"
      ],
      "execution_count": 7,
      "outputs": [
        {
          "output_type": "execute_result",
          "data": {
            "text/plain": [
              "<matplotlib.image.AxesImage at 0x7f0ebeb8c470>"
            ]
          },
          "metadata": {
            "tags": []
          },
          "execution_count": 7
        },
        {
          "output_type": "display_data",
          "data": {
            "image/png": "[encoded data removed]",
            "text/plain": [
              "<Figure size 576x396 with 1 Axes>"
            ]
          },
          "metadata": {
            "tags": []
          }
        }
      ]
    },
    {
      "metadata": {
        "id": "N_16XCRH4RuS",
        "colab_type": "text"
      },
      "cell_type": "markdown",
      "source": [
        "## 2 Optimization problem"
      ]
    },
    {
      "metadata": {
        "id": "0EzeAWIg4RuU",
        "colab_type": "code",
        "colab": {}
      },
      "cell_type": "code",
      "source": [
        "def f(x,y,G,H,lamb,delta):\n",
        "    return 0.5*np.linalg.norm(H*x - y)**2 + lamb*r(x,delta,G) \n",
        "\n",
        "def grad_f(x,y,G,H,lamb,delta):\n",
        "    return H.T*(H*x - y) + lamb * grad_r(x,delta,G)\n",
        "\n",
        "def r(x,delta,G):\n",
        "    return float(np.sum(psi(G*x,delta),axis=0))\n",
        "\n",
        "def grad_r(x,delta,G):\n",
        "    return G.T*psi_prime(G*x,delta)\n",
        "\n",
        "def psi(u,delta):\n",
        "    return np.sqrt(1+np.power(u,2)/delta**2)\n",
        "\n",
        "def psi_prime(u,delta):\n",
        "    return u/(delta**2 * psi(u,delta))\n",
        "  \n",
        "def omega_function(u,delta):\n",
        "    return 1/(delta**2 * psi(u,delta))\n",
        "\n",
        "\n",
        "def SNR(x_hat,x):\n",
        "    return 10 * np.log10(np.linalg.norm(x)**2/np.linalg.norm(x-x_hat)**2)\n"
      ],
      "execution_count": 0,
      "outputs": []
    },
    {
      "metadata": {
        "id": "Ef3u4QeD4Ruy",
        "colab_type": "text"
      },
      "cell_type": "markdown",
      "source": [
        "$\\underline{\\textbf{Q2.}}$ Let be $x \\in \\mathbb{R}^{N}$, and let's compute $\\nabla f(x)$\n",
        "\n",
        "$$\\nabla f(x) = H^{T}(Hx - y) + \\lambda \\nabla r(x) = H^{T}(Hx - y)  + G^{T}\\Psi'(Gx)$$\n",
        "Where $\\Psi'(Gx) = \\left(\\Psi'([Gx]^{n})\\right)_{1\\leq n \\leq 2N}$"
      ]
    },
    {
      "metadata": {
        "id": "n4VsglvR4Ruy",
        "colab_type": "text"
      },
      "cell_type": "markdown",
      "source": [
        "$\\underline{\\textbf{Q3.}}$ Let's show that $\\nabla f $ is $L$-Lipshitz with $L = \\left\\| H\\right\\|^{2} + \\frac{\\lambda}{\\delta^{2}}\\left\\|G\\right\\|^{2}$. \n",
        "\n",
        "We know that $\\forall x_1,x_2 \\in \\mathbb{R}^{N}$ $$\\left\\|\\nabla f(x_1) - \\nabla f(x_2)\\right\\| \\leq \\underset{\\mathbb{R}^{N}}{\\text{sup}}\\left\\|\\nabla^{2}f\\right\\| . \\left\\|x_1-x_2\\right\\|$$ \n",
        "\n",
        "A simple computation show that, $\\forall x \\in \\mathbb{R}^{N}$\n",
        "\n",
        "$$\\nabla^{2}f(x) = H^{T}H + \\lambda G^{T}.\\text{Diag}\\left(\\Psi''(Gx)\\right).G$$\n",
        "\n",
        "And since $\\forall u \\in \\mathbb{R}$,  $\\Psi''(u) = \\frac{1}{\\delta^{2}\\sqrt{1+\\frac{u^{2}}{\\delta^{2}}}}\\left( 1 - \\frac{1}{\\delta^2 + u^2}\\right)$ . $\\forall x \\in \\mathbb{R}^{N}$, $\\left\\|\\nabla^{2} f(x)\\right\\| \\leq \\left\\|H\\right\\|^{2} + \\frac{\\lambda}{\\delta^2}\\left\\|G\\right\\|^{2}$\n",
        "\n",
        "Therfore $\\nabla f$ is $L$-lipshitz"
      ]
    },
    {
      "metadata": {
        "id": "MdFzCP6M4Ruz",
        "colab_type": "code",
        "outputId": "cb90928b-fff2-44a7-cbd4-3da2df8506ca",
        "colab": {
          "base_uri": "https://localhost:8080/",
          "height": 34
        }
      },
      "cell_type": "code",
      "source": [
        "from scipy.sparse.linalg import svds\n",
        "\n",
        "uH, sH, vtH = svds(H)\n",
        "uG, sG, vtG = svds(G)\n",
        "\n",
        "L = np.amax(sH)**2 + lamb/(delta)*np.amax(sG)**2\n",
        "print('L = {}'.format(L))"
      ],
      "execution_count": 9,
      "outputs": [
        {
          "output_type": "stream",
          "text": [
            "L = 15544.773276864795\n"
          ],
          "name": "stdout"
        }
      ]
    },
    {
      "metadata": {
        "id": "0G_W8q134Ru4",
        "colab_type": "text"
      },
      "cell_type": "markdown",
      "source": [
        "## 3. Optimization algorithms"
      ]
    },
    {
      "metadata": {
        "id": "JgrYY4uU4Ru4",
        "colab_type": "text"
      },
      "cell_type": "markdown",
      "source": [
        "### 3.1. Gradient descent algorithm "
      ]
    },
    {
      "metadata": {
        "id": "KqD1jeFI4Ru5",
        "colab_type": "text"
      },
      "cell_type": "markdown",
      "source": [
        "$\\underline{\\textbf{Q1.}}$ We create first $x_{0} \\in \\mathbb{R}^{N}$ a vector with all entries equal to 0. This will be our initialization for all tested algorithms"
      ]
    },
    {
      "metadata": {
        "id": "_wylpOFo4Ru6",
        "colab_type": "code",
        "colab": {}
      },
      "cell_type": "code",
      "source": [
        "x0 = np.zeros((N,1))"
      ],
      "execution_count": 0,
      "outputs": []
    },
    {
      "metadata": {
        "id": "nrvaaxAB4Ru8",
        "colab_type": "text"
      },
      "cell_type": "markdown",
      "source": [
        "$\\underline{\\textbf{Q2.}}$ We implement now a gradient descent algorithm to minimize $f$."
      ]
    },
    {
      "metadata": {
        "id": "bUtdHa634Ru9",
        "colab_type": "code",
        "outputId": "2b8bdc8c-c654-40b2-e530-5b84e4145112",
        "colab": {
          "base_uri": "https://localhost:8080/",
          "height": 4106
        }
      },
      "cell_type": "code",
      "source": [
        "def gradient_descent(f,grad_f,x0,L,N,y,G,H,lamb,delta):\n",
        "    gamma = 1/L\n",
        "    grad = N*1e-4\n",
        "    x = x0\n",
        "    it = 0\n",
        "    itermax = 20000\n",
        "    objectives = []\n",
        "    times = [0]\n",
        "    \n",
        "    while grad > np.sqrt(N)*1e-4 and it <= itermax: \n",
        "        \n",
        "        t1 = time.time()\n",
        "        gradient = grad_f(x,y,G,H,lamb,delta)\n",
        "        x = x - gamma*gradient\n",
        "        grad = np.linalg.norm(gradient)\n",
        "        criterion = f(x,y,G,H,lamb,delta)        \n",
        "        objectives.append(criterion)\n",
        "        \n",
        "        if it%100 == 0:\n",
        "            print(\"Iteration {}, objective: {:.2E}, {}\".format(it,Decimal(criterion),grad))          \n",
        "        t2 = time.time()\n",
        "        times.append(times[-1]+t2-t1)\n",
        "        it += 1\n",
        "    return x,objectives,times\n",
        "        \n",
        "x_hat,objectives,times = gradient_descent(f,grad_f,x0,L,N,y,G,H,0.01,delta)\n",
        "plt.figure()\n",
        "plt.semilogy(times[1:],objectives)\n",
        "plt.grid(which='both')\n",
        "print('\\nSignal to Noise Ratio:',SNR(x_hat,x))\n",
        "plt.figure()\n",
        "plt.imshow(x_hat.reshape(90,90).T,cmap = 'gray')"
      ],
      "execution_count": 11,
      "outputs": [
        {
          "output_type": "stream",
          "text": [
            "Iteration 0, objective: 2.64E+5, 449413.6140459983\n",
            "Iteration 100, objective: 7.49E+3, 512.4124133507086\n",
            "Iteration 200, objective: 6.77E+3, 224.64459116463397\n",
            "Iteration 300, objective: 6.56E+3, 151.68484441013183\n",
            "Iteration 400, objective: 6.45E+3, 114.22814231189223\n",
            "Iteration 500, objective: 6.38E+3, 90.25120611548243\n",
            "Iteration 600, objective: 6.34E+3, 73.51331577129902\n",
            "Iteration 700, objective: 6.31E+3, 61.210734084243356\n",
            "Iteration 800, objective: 6.29E+3, 51.887628298804735\n",
            "Iteration 900, objective: 6.27E+3, 44.631838589568225\n",
            "Iteration 1000, objective: 6.26E+3, 38.87594169556576\n",
            "Iteration 1100, objective: 6.25E+3, 34.23736973944495\n",
            "Iteration 1200, objective: 6.25E+3, 30.439978933425685\n",
            "Iteration 1300, objective: 6.24E+3, 27.282772670901974\n",
            "Iteration 1400, objective: 6.24E+3, 24.623511219612027\n",
            "Iteration 1500, objective: 6.23E+3, 22.360046512862024\n",
            "Iteration 1600, objective: 6.23E+3, 20.416184067060055\n",
            "Iteration 1700, objective: 6.23E+3, 18.732080926575584\n",
            "Iteration 1800, objective: 6.23E+3, 17.260124038298105\n",
            "Iteration 1900, objective: 6.22E+3, 15.964551024147374\n",
            "Iteration 2000, objective: 6.22E+3, 14.817786375682177\n",
            "Iteration 2100, objective: 6.22E+3, 13.796596024784309\n",
            "Iteration 2200, objective: 6.22E+3, 12.881670950487628\n",
            "Iteration 2300, objective: 6.22E+3, 12.05768548041986\n",
            "Iteration 2400, objective: 6.22E+3, 11.312658809959629\n",
            "Iteration 2500, objective: 6.22E+3, 10.636974791410832\n",
            "Iteration 2600, objective: 6.22E+3, 10.022489686379153\n",
            "Iteration 2700, objective: 6.22E+3, 9.462034504577607\n",
            "Iteration 2800, objective: 6.22E+3, 8.949265855817556\n",
            "Iteration 2900, objective: 6.22E+3, 8.478634629293651\n",
            "Iteration 3000, objective: 6.21E+3, 8.045339029086126\n",
            "Iteration 3100, objective: 6.21E+3, 7.645251295425256\n",
            "Iteration 3200, objective: 6.21E+3, 7.274836629519056\n",
            "Iteration 3300, objective: 6.21E+3, 6.931070641217147\n",
            "Iteration 3400, objective: 6.21E+3, 6.611355308909188\n",
            "Iteration 3500, objective: 6.21E+3, 6.313437496604647\n",
            "Iteration 3600, objective: 6.21E+3, 6.035338344333799\n",
            "Iteration 3700, objective: 6.21E+3, 5.775299921280566\n",
            "Iteration 3800, objective: 6.21E+3, 5.531749199720847\n",
            "Iteration 3900, objective: 6.21E+3, 5.303274447649757\n",
            "Iteration 4000, objective: 6.21E+3, 5.088608388168488\n",
            "Iteration 4100, objective: 6.21E+3, 4.886614354908346\n",
            "Iteration 4200, objective: 6.21E+3, 4.696273705018635\n",
            "Iteration 4300, objective: 6.21E+3, 4.516673925278955\n",
            "Iteration 4400, objective: 6.21E+3, 4.346997318455636\n",
            "Iteration 4500, objective: 6.21E+3, 4.186510260030772\n",
            "Iteration 4600, objective: 6.21E+3, 4.0345530203165145\n",
            "Iteration 4700, objective: 6.21E+3, 3.890530171711727\n",
            "Iteration 4800, objective: 6.21E+3, 3.7539016741740348\n",
            "Iteration 4900, objective: 6.21E+3, 3.62417482081589\n",
            "Iteration 5000, objective: 6.21E+3, 3.50089726917858\n",
            "Iteration 5100, objective: 6.21E+3, 3.383651339384053\n",
            "Iteration 5200, objective: 6.21E+3, 3.272049634642018\n",
            "Iteration 5300, objective: 6.21E+3, 3.1657318831546615\n",
            "Iteration 5400, objective: 6.21E+3, 3.064362773212639\n",
            "Iteration 5500, objective: 6.21E+3, 2.967630490990249\n",
            "Iteration 5600, objective: 6.21E+3, 2.87524567478888\n",
            "Iteration 5700, objective: 6.21E+3, 2.7869405489895205\n",
            "Iteration 5800, objective: 6.21E+3, 2.7024680690377045\n",
            "Iteration 5900, objective: 6.21E+3, 2.6216009751164733\n",
            "Iteration 6000, objective: 6.21E+3, 2.5441307064015306\n",
            "Iteration 6100, objective: 6.21E+3, 2.469866167586807\n",
            "Iteration 6200, objective: 6.21E+3, 2.398632366522913\n",
            "Iteration 6300, objective: 6.21E+3, 2.330268959175764\n",
            "Iteration 6400, objective: 6.21E+3, 2.264628747902761\n",
            "Iteration 6500, objective: 6.21E+3, 2.2015761825994944\n",
            "Iteration 6600, objective: 6.21E+3, 2.1409859124877015\n",
            "Iteration 6700, objective: 6.21E+3, 2.082741430212851\n",
            "Iteration 6800, objective: 6.21E+3, 2.026733840885539\n",
            "Iteration 6900, objective: 6.21E+3, 1.972860778326852\n",
            "Iteration 7000, objective: 6.21E+3, 1.9210254805130755\n",
            "Iteration 7100, objective: 6.21E+3, 1.8711360270191324\n",
            "Iteration 7200, objective: 6.21E+3, 1.8231047335000696\n",
            "Iteration 7300, objective: 6.21E+3, 1.7768476918739533\n",
            "Iteration 7400, objective: 6.21E+3, 1.7322844397224717\n",
            "Iteration 7500, objective: 6.21E+3, 1.6893377384892052\n",
            "Iteration 7600, objective: 6.21E+3, 1.64793343752183\n",
            "Iteration 7700, objective: 6.21E+3, 1.6080004001551818\n",
            "Iteration 7800, objective: 6.21E+3, 1.5694704690099173\n",
            "Iteration 7900, objective: 6.21E+3, 1.532278450358971\n",
            "Iteration 8000, objective: 6.21E+3, 1.4963621013576631\n",
            "Iteration 8100, objective: 6.21E+3, 1.4616621085149744\n",
            "Iteration 8200, objective: 6.21E+3, 1.4281220503442666\n",
            "Iteration 8300, objective: 6.21E+3, 1.3956883411374117\n",
            "Iteration 8400, objective: 6.21E+3, 1.3643101559329385\n",
            "Iteration 8500, objective: 6.21E+3, 1.3339393388798106\n",
            "Iteration 8600, objective: 6.21E+3, 1.3045302984083131\n",
            "Iteration 8700, objective: 6.21E+3, 1.2760398930741448\n",
            "Iteration 8800, objective: 6.21E+3, 1.24842731185526\n",
            "Iteration 8900, objective: 6.21E+3, 1.2216539522615777\n",
            "Iteration 9000, objective: 6.21E+3, 1.1956832990284614\n",
            "Iteration 9100, objective: 6.21E+3, 1.1704808055347051\n",
            "Iteration 9200, objective: 6.21E+3, 1.1460137794885765\n",
            "Iteration 9300, objective: 6.21E+3, 1.122251273907318\n",
            "Iteration 9400, objective: 6.21E+3, 1.0991639839892233\n",
            "Iteration 9500, objective: 6.21E+3, 1.0767241501469333\n",
            "Iteration 9600, objective: 6.21E+3, 1.0549054672247777\n",
            "Iteration 9700, objective: 6.21E+3, 1.0336829997449448\n",
            "Iteration 9800, objective: 6.21E+3, 1.013033102910505\n",
            "Iteration 9900, objective: 6.21E+3, 0.9929333490167357\n",
            "Iteration 10000, objective: 6.21E+3, 0.9733624588796265\n",
            "Iteration 10100, objective: 6.21E+3, 0.9543002378718004\n",
            "Iteration 10200, objective: 6.21E+3, 0.9357275161551786\n",
            "Iteration 10300, objective: 6.21E+3, 0.917626092708765\n",
            "Iteration 10400, objective: 6.21E+3, 0.8999786827715708\n",
            "Iteration 10500, objective: 6.21E+3, 0.8827688683449674\n",
            "Iteration 10600, objective: 6.21E+3, 0.865981051430563\n",
            "Iteration 10700, objective: 6.21E+3, 0.849600409712363\n",
            "Iteration 10800, objective: 6.21E+3, 0.8336128544302362\n",
            "Iteration 10900, objective: 6.21E+3, 0.8180049902274861\n",
            "Iteration 11000, objective: 6.21E+3, 0.802764076794479\n",
            "Iteration 11100, objective: 6.21E+3, 0.7878779921690577\n",
            "Iteration 11200, objective: 6.21E+3, 0.7733351975882953\n",
            "Iteration 11300, objective: 6.21E+3, 0.7591247038221406\n",
            "Iteration 11400, objective: 6.21E+3, 0.7452360389480976\n",
            "Iteration 11500, objective: 6.21E+3, 0.731659217550995\n",
            "Iteration 11600, objective: 6.21E+3, 0.718384711352659\n",
            "Iteration 11700, objective: 6.21E+3, 0.7054034212886007\n",
            "Iteration 11800, objective: 6.21E+3, 0.6927066510574288\n",
            "Iteration 11900, objective: 6.21E+3, 0.6802860821678767\n",
            "Iteration 12000, objective: 6.21E+3, 0.6681337505061377\n",
            "Iteration 12100, objective: 6.21E+3, 0.6562420244339082\n",
            "Iteration 12200, objective: 6.21E+3, 0.644603584415639\n",
            "Iteration 12300, objective: 6.21E+3, 0.6332114041561343\n",
            "Iteration 12400, objective: 6.21E+3, 0.6220587332127067\n",
            "Iteration 12500, objective: 6.21E+3, 0.6111390810273308\n",
            "Iteration 12600, objective: 6.21E+3, 0.6004462023085868\n",
            "Iteration 12700, objective: 6.21E+3, 0.5899740836774299\n",
            "Iteration 12800, objective: 6.21E+3, 0.5797169314813208\n",
            "Iteration 12900, objective: 6.21E+3, 0.5696691606710796\n",
            "Iteration 13000, objective: 6.21E+3, 0.5598253846322074\n",
            "Iteration 13100, objective: 6.21E+3, 0.5501804058608282\n",
            "Iteration 13200, objective: 6.21E+3, 0.5407292073777369\n",
            "Iteration 13300, objective: 6.21E+3, 0.5314669447797546\n",
            "Iteration 13400, objective: 6.21E+3, 0.5223889388346438\n",
            "Iteration 13500, objective: 6.21E+3, 0.5134906685370718\n",
            "Iteration 13600, objective: 6.21E+3, 0.5047677645527119\n",
            "Iteration 13700, objective: 6.21E+3, 0.4962160029895626\n",
            "Iteration 13800, objective: 6.21E+3, 0.4878312994457233\n",
            "Iteration 13900, objective: 6.21E+3, 0.4796097032950104\n",
            "Iteration 14000, objective: 6.21E+3, 0.4715473921799395\n",
            "Iteration 14100, objective: 6.21E+3, 0.46364066669057485\n",
            "Iteration 14200, objective: 6.21E+3, 0.45588594521637793\n",
            "Iteration 14300, objective: 6.21E+3, 0.44827975896161054\n",
            "Iteration 14400, objective: 6.21E+3, 0.4408187471221384\n",
            "Iteration 14500, objective: 6.21E+3, 0.43349965222231923\n",
            "Iteration 14600, objective: 6.21E+3, 0.42631931561572217\n",
            "Iteration 14700, objective: 6.21E+3, 0.41927467315211614\n",
            "Iteration 14800, objective: 6.21E+3, 0.4123627510149178\n",
            "Iteration 14900, objective: 6.21E+3, 0.40558066173355445\n",
            "Iteration 15000, objective: 6.21E+3, 0.39892560037314756\n",
            "Iteration 15100, objective: 6.21E+3, 0.39239484090409743\n",
            "Iteration 15200, objective: 6.21E+3, 0.38598573275219467\n",
            "Iteration 15300, objective: 6.21E+3, 0.3796956975286834\n",
            "Iteration 15400, objective: 6.21E+3, 0.3735222259386131\n",
            "Iteration 15500, objective: 6.21E+3, 0.3674628748635437\n",
            "Iteration 15600, objective: 6.21E+3, 0.36151526461473515\n",
            "Iteration 15700, objective: 6.21E+3, 0.35567707635045\n",
            "Iteration 15800, objective: 6.21E+3, 0.3499460496512211\n",
            "Iteration 15900, objective: 6.21E+3, 0.34431998024556565\n",
            "Iteration 16000, objective: 6.21E+3, 0.33879671787815796\n",
            "Iteration 16100, objective: 6.21E+3, 0.33337416431206196\n",
            "Iteration 16200, objective: 6.21E+3, 0.3280502714567824\n",
            "Iteration 16300, objective: 6.21E+3, 0.3228230396134527\n",
            "Iteration 16400, objective: 6.21E+3, 0.31769051582861274\n",
            "Iteration 16500, objective: 6.21E+3, 0.31265079234823057\n",
            "Iteration 16600, objective: 6.21E+3, 0.3077020051645922\n",
            "Iteration 16700, objective: 6.21E+3, 0.3028423326474067\n",
            "Iteration 16800, objective: 6.21E+3, 0.29806999425314024\n",
            "Iteration 16900, objective: 6.21E+3, 0.2933832493050839\n",
            "Iteration 17000, objective: 6.21E+3, 0.28878039583839044\n",
            "Iteration 17100, objective: 6.21E+3, 0.2842597695037613\n",
            "Iteration 17200, objective: 6.21E+3, 0.27981974252571284\n",
            "Iteration 17300, objective: 6.21E+3, 0.27545872270947697\n",
            "Iteration 17400, objective: 6.21E+3, 0.2711751524928274\n",
            "Iteration 17500, objective: 6.21E+3, 0.2669675080393774\n",
            "Iteration 17600, objective: 6.21E+3, 0.2628342983688268\n",
            "Iteration 17700, objective: 6.21E+3, 0.2587740645224054\n",
            "Iteration 17800, objective: 6.21E+3, 0.25478537875998153\n",
            "Iteration 17900, objective: 6.21E+3, 0.25086684378654023\n",
            "Iteration 18000, objective: 6.21E+3, 0.24701709200603442\n",
            "Iteration 18100, objective: 6.21E+3, 0.24323478480090668\n",
            "Iteration 18200, objective: 6.21E+3, 0.23951861183538692\n",
            "Iteration 18300, objective: 6.21E+3, 0.23586729038072923\n",
            "Iteration 18400, objective: 6.21E+3, 0.23227956466231964\n",
            "Iteration 18500, objective: 6.21E+3, 0.22875420522588552\n",
            "Iteration 18600, objective: 6.21E+3, 0.22529000832338258\n",
            "Iteration 18700, objective: 6.21E+3, 0.22188579531599661\n",
            "Iteration 18800, objective: 6.21E+3, 0.21854041209510525\n",
            "Iteration 18900, objective: 6.21E+3, 0.21525272851905763\n",
            "Iteration 19000, objective: 6.21E+3, 0.2120216378660446\n",
            "Iteration 19100, objective: 6.21E+3, 0.20884605630184105\n",
            "Iteration 19200, objective: 6.21E+3, 0.20572492236206308\n",
            "Iteration 19300, objective: 6.21E+3, 0.2026571964486707\n",
            "Iteration 19400, objective: 6.21E+3, 0.19964186033962467\n",
            "Iteration 19500, objective: 6.21E+3, 0.19667791671147042\n",
            "Iteration 19600, objective: 6.21E+3, 0.19376438867512377\n",
            "Iteration 19700, objective: 6.21E+3, 0.19090031932302612\n",
            "Iteration 19800, objective: 6.21E+3, 0.18808477128833123\n",
            "Iteration 19900, objective: 6.21E+3, 0.1853168263157092\n",
            "Iteration 20000, objective: 6.21E+3, 0.18259558484274244\n",
            "\n",
            "Signal to Noise Ratio: 10.894673712672628\n"
          ],
          "name": "stdout"
        },
        {
          "output_type": "execute_result",
          "data": {
            "text/plain": [
              "<matplotlib.image.AxesImage at 0x7f0ebc1c9c88>"
            ]
          },
          "metadata": {
            "tags": []
          },
          "execution_count": 11
        },
        {
          "output_type": "display_data",
          "data": {
            "image/png": "[encoded data removed]",
            "text/plain": [
              "<Figure size 576x396 with 1 Axes>"
            ]
          },
          "metadata": {
            "tags": []
          }
        },
        {
          "output_type": "display_data",
          "data": {
            "image/png": "[encoded data removed]",
            "text/plain": [
              "<Figure size 576x396 with 1 Axes>"
            ]
          },
          "metadata": {
            "tags": []
          }
        }
      ]
    },
    {
      "metadata": {
        "id": "lO36w1I24RvB",
        "colab_type": "text"
      },
      "cell_type": "markdown",
      "source": [
        "### 3.2. MM quadratic algorithm"
      ]
    },
    {
      "metadata": {
        "id": "2MzdSIrV4RvC",
        "colab_type": "text"
      },
      "cell_type": "markdown",
      "source": [
        "$\\underline{\\textbf{Q1.}}$We define $$A(x) = H^{T}H +  \\frac{1}{\\lambda}G^{T}\\omega(x)G$$\n",
        "Where $\\omega(x) = \\left( \\frac{\\psi'\\left([Gx]^{(n)}\\right)}{[Gx]^{n}}\\right)_{0\\leq n\\leq 2N}$\n",
        "\n",
        "Then a quadratic majorant function of $f$ is given by $$h(x,y) = f(y) + \\left\\langle \\nabla f(y) | x-y \\right\\rangle + \\frac{1}{2}\\left\\|x-y\\right\\|^{2}_{A(y)}$$ \n",
        "\n"
      ]
    },
    {
      "metadata": {
        "id": "OV5ZlwGh4RvE",
        "colab_type": "code",
        "colab": {}
      },
      "cell_type": "code",
      "source": [
        "from scipy.sparse.linalg import LinearOperator\n",
        "from scipy.sparse import diags\n",
        "\n",
        "\n",
        "def psi_derivative(x, delta):\n",
        "    return (x/delta**2)/np.sqrt(1 + x**2/delta**2)\n",
        "\n",
        "def Deb(x):\n",
        "    A=G@x \n",
        "    d=np.array([psi_derivative(np.abs(A[i, 0]), delta)/np.abs(A[i, 0]) for i in range(M)]).reshape(-1, 1)\n",
        "    return scipy.sparse.diags(d[:,0]).tocsc()\n",
        "  \n",
        "def mv1(x):\n",
        "    def result(y):\n",
        "        return (H.T)@(H@y) + lamb*(G.T)@Deb(x)@(G@y)\n",
        "    return result\n",
        "    \n",
        "A = lambda x: LinearOperator((N, N), matvec = mv1(x), rmatvec = mv1(x))   \n"
      ],
      "execution_count": 0,
      "outputs": []
    },
    {
      "metadata": {
        "id": "tzDN6TKs4RvG",
        "colab_type": "text"
      },
      "cell_type": "markdown",
      "source": [
        "$\\underline{\\textbf{Q2.}}$ We propose basic MM algorithm with $\\theta_{n} = 1$ to to minimize $f$\n",
        "$$x_{n+1} = x_{n}  - \\theta_{n}A(x_{n})^{-1}\\nabla f(x_{n})$$"
      ]
    },
    {
      "metadata": {
        "id": "zjEQ3Nu34RvH",
        "colab_type": "code",
        "outputId": "19f2b3dd-db7c-484e-96d1-a5623b5d45dc",
        "colab": {
          "base_uri": "https://localhost:8080/",
          "height": 1889
        }
      },
      "cell_type": "code",
      "source": [
        "def MM_quadratic(f,grad_f,invA,x0,L,N,y,G,H,lamb,delta):\n",
        "    grad = N*1e-4\n",
        "    x = np.random.rand(N, 1)\n",
        "    it = 0\n",
        "    itermax = 100\n",
        "    objectives = []\n",
        "    times = [0]\n",
        "    \n",
        "    while grad > np.sqrt(N)*1e-4 and it <= itermax:         \n",
        "        t1 = time.time()\n",
        "        \n",
        "        gradient = grad_f(x,y,G,H,lamb,delta)\n",
        "        x = x - scipy.sparse.linalg.bicg(A(x), gradient)[0].reshape(-1, 1)\n",
        "\n",
        "        grad = np.linalg.norm(gradient)\n",
        "        criterion = f(x,y,G,H,lamb,delta)        \n",
        "        objectives.append(criterion)\n",
        "        \n",
        "        if it%1 == 0:\n",
        "            print(\"Iteration {}, objective: {:.2E}, {}, {}\".format(it,Decimal(criterion),grad,0.5*np.linalg.norm(H*x - y)**2))        \n",
        "        t2 = time.time()\n",
        "        times.append(times[-1]+t2-t1)\n",
        "        it += 1\n",
        "    return x,objectives,times\n",
        "\n",
        "\n",
        "x_hat,objectives,times = MM_quadratic(f,grad_f,A,x0,L,N,y,G,H,lamb,delta)\n",
        "plt.figure()\n",
        "plt.semilogy(times[1:],objectives)\n",
        "plt.grid(which='both')\n",
        "print('\\nSignal to Noise Ratio:',SNR(x_hat,x))\n",
        "plt.figure()\n",
        "plt.imshow(x_hat.reshape(90,90).T,cmap = 'gray')"
      ],
      "execution_count": 73,
      "outputs": [
        {
          "output_type": "stream",
          "text": [
            "Iteration 0, objective: 1.43E+4, 248749.6619949809, 6554.904172440932\n",
            "Iteration 1, objective: 1.31E+4, 829.5413711318909, 6932.6726927028185\n",
            "Iteration 2, objective: 1.29E+4, 386.5682434880396, 7052.136666073638\n",
            "Iteration 3, objective: 1.28E+4, 201.75931066853803, 7093.875404116592\n",
            "Iteration 4, objective: 1.28E+4, 122.15543180236857, 7109.937727325503\n",
            "Iteration 5, objective: 1.28E+4, 82.12682094558076, 7116.871382802908\n",
            "Iteration 6, objective: 1.28E+4, 58.964258026209905, 7120.3548018163165\n",
            "Iteration 7, objective: 1.28E+4, 43.979374273248496, 7122.38884025217\n",
            "Iteration 8, objective: 1.28E+4, 33.52906501118301, 7123.731804553126\n",
            "Iteration 9, objective: 1.28E+4, 26.225344651505576, 7124.706503237054\n",
            "Iteration 10, objective: 1.28E+4, 20.98700101816616, 7125.459227732808\n",
            "Iteration 11, objective: 1.28E+4, 17.033069539499575, 7126.061165113342\n",
            "Iteration 12, objective: 1.28E+4, 13.934651086532313, 7126.551492721872\n",
            "Iteration 13, objective: 1.28E+4, 11.45966885786069, 7126.955056935303\n",
            "Iteration 14, objective: 1.28E+4, 9.464721095927953, 7127.289420072931\n",
            "Iteration 15, objective: 1.28E+4, 7.849980123567488, 7127.567812377019\n",
            "Iteration 16, objective: 1.28E+4, 6.540883625114839, 7127.800551406759\n",
            "Iteration 17, objective: 1.28E+4, 5.477998200030576, 7127.995837564151\n",
            "Iteration 18, objective: 1.28E+4, 4.612419630954705, 7128.160256701409\n",
            "Iteration 19, objective: 1.28E+4, 3.904191543979044, 7128.299130562651\n",
            "Iteration 20, objective: 1.28E+4, 3.3212985443368233, 7128.416777367201\n",
            "Iteration 21, objective: 1.28E+4, 2.838471734879578, 7128.51671445371\n",
            "Iteration 22, objective: 1.28E+4, 2.435923323057366, 7128.601818410726\n",
            "Iteration 23, objective: 1.28E+4, 2.0981949607688053, 7128.674452287725\n",
            "Iteration 24, objective: 1.28E+4, 1.8131918052610938, 7128.736566429947\n",
            "Iteration 25, objective: 1.28E+4, 1.5714070209762068, 7128.789778093304\n",
            "Iteration 26, objective: 1.28E+4, 1.3653166604085762, 7128.835434478513\n",
            "Iteration 27, objective: 1.28E+4, 1.1889169193414375, 7128.874662635\n",
            "Iteration 28, objective: 1.28E+4, 1.0373746896337754, 7128.908409113032\n",
            "Iteration 29, objective: 1.28E+4, 0.9067651417482014, 7128.937471798434\n",
            "Iteration 30, objective: 1.28E+4, 0.7938744724197072, 7128.962525363423\n",
            "Iteration 31, objective: 1.28E+4, 0.6960509439065249, 7128.984141951858\n",
            "Iteration 32, objective: 1.28E+4, 0.6110914451285018, 7129.00280797828\n",
            "Iteration 33, objective: 1.28E+4, 0.5371542607081992, 7129.018937917555\n",
            "Iteration 34, objective: 1.28E+4, 0.4726913204918983, 7129.03288563402\n",
            "Iteration 35, objective: 1.28E+4, 0.4163950153930821, 7129.044953780581\n",
            "Iteration 36, objective: 1.28E+4, 0.36715605120468525, 7129.055401607236\n",
            "Iteration 37, objective: 1.28E+4, 0.32402972852203504, 7129.064451490672\n",
            "Iteration 38, objective: 1.28E+4, 0.2862087392417808, 7129.072294410451\n",
            "Iteration 39, objective: 1.28E+4, 0.25300104611662616, 7129.079094559884\n",
            "Iteration 40, objective: 1.28E+4, 0.22381176800989872, 7129.0849932402\n",
            "Iteration 41, objective: 1.28E+4, 0.19812824955233155, 7129.090112158625\n",
            "Iteration 42, objective: 1.28E+4, 0.17550768343921, 7129.094556228701\n",
            "Iteration 43, objective: 1.28E+4, 0.1555667946324039, 7129.098415953059\n",
            "Iteration 44, objective: 1.28E+4, 0.13797320184732006, 7129.101769454868\n",
            "Iteration 45, objective: 1.28E+4, 0.12243815226323713, 7129.104684212699\n",
            "Iteration 46, objective: 1.28E+4, 0.10871038714954911, 7129.107218544227\n",
            "Iteration 47, objective: 1.28E+4, 0.0965709438967771, 7129.109422877161\n",
            "Iteration 48, objective: 1.28E+4, 0.08582873714334513, 7129.11134083953\n",
            "Iteration 49, objective: 1.28E+4, 0.07631679135724673, 7129.113010194082\n",
            "Iteration 50, objective: 1.28E+4, 0.06788902001847659, 7129.114463641659\n",
            "Iteration 51, objective: 1.28E+4, 0.060417464872322676, 7129.1157295123785\n",
            "Iteration 52, objective: 1.28E+4, 0.05378992463930147, 7129.11683236026\n",
            "Iteration 53, objective: 1.28E+4, 0.04790791379483764, 7129.117793475339\n",
            "Iteration 54, objective: 1.28E+4, 0.0426849019962855, 7129.118631324928\n",
            "Iteration 55, objective: 1.28E+4, 0.038044792810254635, 7129.11936193407\n",
            "Iteration 56, objective: 1.28E+4, 0.03392060698865995, 7129.119999213719\n",
            "Iteration 57, objective: 1.28E+4, 0.030253340986461704, 7129.120555244133\n",
            "Iteration 58, objective: 1.28E+4, 0.02699097592951654, 7129.12104051953\n",
            "Iteration 59, objective: 1.28E+4, 0.024087616000095815, 7129.121464159549\n",
            "Iteration 60, objective: 1.28E+4, 0.0215027383473244, 7129.121834092023\n",
            "Iteration 61, objective: 1.28E+4, 0.019200539269377564, 7129.122157211056\n",
            "Iteration 62, objective: 1.28E+4, 0.01714936363673625, 7129.122439513264\n",
            "Iteration 63, objective: 1.28E+4, 0.015321206493940429, 7129.122686217653\n",
            "Iteration 64, objective: 1.28E+4, 0.013691276643855964, 7129.122901867186\n",
            "Iteration 65, objective: 1.28E+4, 0.01223761562080824, 7129.123090417239\n",
            "Iteration 66, objective: 1.28E+4, 0.010940762708490996, 7129.123255312916\n",
            "Iteration 67, objective: 1.28E+4, 0.00978346156046489, 7129.123399555798\n",
            "Iteration 68, objective: 1.28E+4, 0.008750402628554444, 7129.123525761857\n",
            "\n",
            "Signal to Noise Ratio: 18.828669012571247\n"
          ],
          "name": "stdout"
        },
        {
          "output_type": "execute_result",
          "data": {
            "text/plain": [
              "<matplotlib.image.AxesImage at 0x7f95527d7278>"
            ]
          },
          "metadata": {
            "tags": []
          },
          "execution_count": 73
        },
        {
          "output_type": "display_data",
          "data": {
            "image/png": "[encoded data removed]",
            "text/plain": [
              "<Figure size 576x396 with 1 Axes>"
            ]
          },
          "metadata": {
            "tags": []
          }
        },
        {
          "output_type": "display_data",
          "data": {
            "image/png": "[encoded data removed]",
            "text/plain": [
              "<Figure size 576x396 with 1 Axes>"
            ]
          },
          "metadata": {
            "tags": []
          }
        }
      ]
    },
    {
      "metadata": {
        "id": "YGeDggEc4RvM",
        "colab_type": "text"
      },
      "cell_type": "markdown",
      "source": [
        "### 3.3. 3MG  algorithm"
      ]
    },
    {
      "metadata": {
        "id": "QzM8C0UM04dS",
        "colab_type": "code",
        "colab": {}
      },
      "cell_type": "code",
      "source": [
        "def A(x,G,H,lamb,delta):  \n",
        "    \n",
        "    return scipy.sparse.csr_matrix.todense(H.T*H + lamb/2*(G.T*scipy.sparse.spdiags(np.squeeze(omega_function(G*x,delta)),0,M,M))*G) # To compute"
      ],
      "execution_count": 0,
      "outputs": []
    },
    {
      "metadata": {
        "id": "KGiTI5CC4RvM",
        "colab_type": "code",
        "colab": {
          "base_uri": "https://localhost:8080/",
          "height": 3283
        },
        "outputId": "23b73fd5-db92-408a-b3d6-1648ecb897e1"
      },
      "cell_type": "code",
      "source": [
        "def MMMG(f,grad_f,A,x0,L,N,y,G,H,lamb,delta):\n",
        "    gamma = 1/L\n",
        "    grad = N*1e-4\n",
        "    x = x0\n",
        "    it = 0\n",
        "    itermax = 1000\n",
        "    objectives = []\n",
        "    times = [0]\n",
        "    \n",
        "    while grad > np.sqrt(N)*1e-4 and it <= itermax: \n",
        "        t1 = time.time()\n",
        "        gradient = grad_f(x,y,G,H,lamb,delta)\n",
        "        if it == 0:\n",
        "            D = - gradient\n",
        "        else:\n",
        "            D = np.concatenate((-gradient,diff),axis=1)\n",
        "        \n",
        "        temp = np.dot(D.T,A(x,G,H,lamb,delta)*D)\n",
        "        u = - np.dot(np.linalg.pinv(temp),np.dot(D.T,gradient))\n",
        "        x = x + np.dot(D,u)\n",
        "        grad = np.linalg.norm(gradient)\n",
        "        criterion = f(x,y,G,H,lamb,delta)        \n",
        "        objectives.append(criterion)\n",
        "        \n",
        "        if it%1 == 0:\n",
        "            print(\"Iteration {}, objective: {:.2E}, {}\".format(it,Decimal(criterion),grad))        \n",
        "        t2 = time.time()\n",
        "        times.append(times[-1]+t2-t1)\n",
        "        diff = np.dot(D,u)\n",
        "        it += 1\n",
        "    return x,objectives,times\n",
        "        \n",
        "x_hat,objectives,times = MMMG(f,grad_f,A,x0,L,N,y,G,H,lamb,delta)\n",
        "plt.figure()\n",
        "plt.semilogy(times[1:],objectives)\n",
        "plt.grid(which='both')\n",
        "print('\\nSignal to Noise Ratio:',SNR(x_hat,x))\n",
        "plt.figure()\n",
        "plt.imshow(x_hat.reshape(90,90).T,cmap = 'gray')"
      ],
      "execution_count": 99,
      "outputs": [
        {
          "output_type": "stream",
          "text": [
            "Iteration 0, objective: 2.44E+5, 464459.74735184695\n",
            "Iteration 1, objective: 4.70E+4, 36264.10084275691\n",
            "Iteration 2, objective: 2.13E+4, 11362.899267847517\n",
            "Iteration 3, objective: 1.56E+4, 5974.512317180808\n",
            "Iteration 4, objective: 8.19E+3, 4665.969994351633\n",
            "Iteration 5, objective: 6.78E+3, 1824.4136027114935\n",
            "Iteration 6, objective: 6.59E+3, 1607.7526496583766\n",
            "Iteration 7, objective: 6.15E+3, 1562.3722520511537\n",
            "Iteration 8, objective: 5.97E+3, 802.9798617934226\n",
            "Iteration 9, objective: 5.88E+3, 674.9016998596583\n",
            "Iteration 10, objective: 5.84E+3, 830.0664690402293\n",
            "Iteration 11, objective: 5.80E+3, 446.1771916406474\n",
            "Iteration 12, objective: 5.75E+3, 435.81654938422196\n",
            "Iteration 13, objective: 5.74E+3, 296.6603880905627\n",
            "Iteration 14, objective: 5.72E+3, 436.33899955640464\n",
            "Iteration 15, objective: 5.70E+3, 229.13382840333597\n",
            "Iteration 16, objective: 5.69E+3, 172.80924108949912\n",
            "Iteration 17, objective: 5.68E+3, 251.83101847775134\n",
            "Iteration 18, objective: 5.68E+3, 165.2255429799245\n",
            "Iteration 19, objective: 5.68E+3, 143.5289324559572\n",
            "Iteration 20, objective: 5.67E+3, 189.9109706091014\n",
            "Iteration 21, objective: 5.67E+3, 117.77752306941831\n",
            "Iteration 22, objective: 5.67E+3, 95.16081446133649\n",
            "Iteration 23, objective: 5.66E+3, 146.8429711306623\n",
            "Iteration 24, objective: 5.66E+3, 78.15509017460178\n",
            "Iteration 25, objective: 5.66E+3, 83.149060506498\n",
            "Iteration 26, objective: 5.66E+3, 76.4380578239916\n",
            "Iteration 27, objective: 5.66E+3, 74.17106129612237\n",
            "Iteration 28, objective: 5.66E+3, 72.18819691722773\n",
            "Iteration 29, objective: 5.66E+3, 52.1118816897416\n",
            "Iteration 30, objective: 5.66E+3, 60.29576043518924\n",
            "Iteration 31, objective: 5.66E+3, 47.229187580915095\n",
            "Iteration 32, objective: 5.66E+3, 46.288459029880855\n",
            "Iteration 33, objective: 5.66E+3, 45.25197073046487\n",
            "Iteration 34, objective: 5.66E+3, 39.0819148160366\n",
            "Iteration 35, objective: 5.66E+3, 38.53843924129037\n",
            "Iteration 36, objective: 5.66E+3, 36.287088870260725\n",
            "Iteration 37, objective: 5.66E+3, 34.08522415905772\n",
            "Iteration 38, objective: 5.65E+3, 30.253140988912545\n",
            "Iteration 39, objective: 5.65E+3, 28.982884393377887\n",
            "Iteration 40, objective: 5.65E+3, 24.705055053616974\n",
            "Iteration 41, objective: 5.65E+3, 24.601164444221894\n",
            "Iteration 42, objective: 5.65E+3, 22.66329736308957\n",
            "Iteration 43, objective: 5.65E+3, 20.69467581663886\n",
            "Iteration 44, objective: 5.65E+3, 18.5658604543436\n",
            "Iteration 45, objective: 5.65E+3, 18.640164204543073\n",
            "Iteration 46, objective: 5.65E+3, 16.726126442046297\n",
            "Iteration 47, objective: 5.65E+3, 15.751758737354011\n",
            "Iteration 48, objective: 5.65E+3, 14.501847814720191\n",
            "Iteration 49, objective: 5.65E+3, 13.170203143712321\n",
            "Iteration 50, objective: 5.65E+3, 12.939723958750669\n",
            "Iteration 51, objective: 5.65E+3, 11.410072409766217\n",
            "Iteration 52, objective: 5.65E+3, 10.432287126603836\n",
            "Iteration 53, objective: 5.65E+3, 9.669014728025328\n",
            "Iteration 54, objective: 5.65E+3, 9.575445521228854\n",
            "Iteration 55, objective: 5.65E+3, 8.25894159981484\n",
            "Iteration 56, objective: 5.65E+3, 8.069776922535965\n",
            "Iteration 57, objective: 5.65E+3, 7.468443722018799\n",
            "Iteration 58, objective: 5.65E+3, 6.444761409984682\n",
            "Iteration 59, objective: 5.65E+3, 6.416767406734131\n",
            "Iteration 60, objective: 5.65E+3, 6.201968622700119\n",
            "Iteration 61, objective: 5.65E+3, 5.648986177743535\n",
            "Iteration 62, objective: 5.65E+3, 4.847733297641422\n",
            "Iteration 63, objective: 5.65E+3, 4.871866737888143\n",
            "Iteration 64, objective: 5.65E+3, 4.507846061183793\n",
            "Iteration 65, objective: 5.65E+3, 4.261710002550443\n",
            "Iteration 66, objective: 5.65E+3, 3.766151504372053\n",
            "Iteration 67, objective: 5.65E+3, 3.3159998932677035\n",
            "Iteration 68, objective: 5.65E+3, 3.282449504258809\n",
            "Iteration 69, objective: 5.65E+3, 2.9354523305241806\n",
            "Iteration 70, objective: 5.65E+3, 2.707557375796117\n",
            "Iteration 71, objective: 5.65E+3, 2.5450130223503598\n",
            "Iteration 72, objective: 5.65E+3, 2.456438314482264\n",
            "Iteration 73, objective: 5.65E+3, 2.072573610391715\n",
            "Iteration 74, objective: 5.65E+3, 2.028188646622855\n",
            "Iteration 75, objective: 5.65E+3, 2.0682539226524677\n",
            "Iteration 76, objective: 5.65E+3, 1.8100143460807314\n",
            "Iteration 77, objective: 5.65E+3, 1.668811791700079\n",
            "Iteration 78, objective: 5.65E+3, 1.5536086945209244\n",
            "Iteration 79, objective: 5.65E+3, 1.5065443746024438\n",
            "Iteration 80, objective: 5.65E+3, 1.3595995626221633\n",
            "Iteration 81, objective: 5.65E+3, 1.256453301704165\n",
            "Iteration 82, objective: 5.65E+3, 1.171548591322322\n",
            "Iteration 83, objective: 5.65E+3, 1.1393860475481288\n",
            "Iteration 84, objective: 5.65E+3, 1.0675991369375906\n",
            "Iteration 85, objective: 5.65E+3, 0.9323543220286064\n",
            "Iteration 86, objective: 5.65E+3, 0.9470602919011315\n",
            "Iteration 87, objective: 5.65E+3, 0.8527220766157878\n",
            "Iteration 88, objective: 5.65E+3, 0.7774052697645775\n",
            "Iteration 89, objective: 5.65E+3, 0.7438590997262976\n",
            "Iteration 90, objective: 5.65E+3, 0.7068077999104619\n",
            "Iteration 91, objective: 5.65E+3, 0.6127636867513871\n",
            "Iteration 92, objective: 5.65E+3, 0.5620389391532213\n",
            "Iteration 93, objective: 5.65E+3, 0.5615883386484356\n",
            "Iteration 94, objective: 5.65E+3, 0.4984338597315199\n",
            "Iteration 95, objective: 5.65E+3, 0.48414916112683726\n",
            "Iteration 96, objective: 5.65E+3, 0.4301988828395381\n",
            "Iteration 97, objective: 5.65E+3, 0.394041190643389\n",
            "Iteration 98, objective: 5.65E+3, 0.3714174762308623\n",
            "Iteration 99, objective: 5.65E+3, 0.3493439638968414\n",
            "Iteration 100, objective: 5.65E+3, 0.3187391839098947\n",
            "Iteration 101, objective: 5.65E+3, 0.29213713613117326\n",
            "Iteration 102, objective: 5.65E+3, 0.281645549424547\n",
            "Iteration 103, objective: 5.65E+3, 0.24510672049977292\n",
            "Iteration 104, objective: 5.65E+3, 0.24128005076134942\n",
            "Iteration 105, objective: 5.65E+3, 0.2243529434490847\n",
            "Iteration 106, objective: 5.65E+3, 0.21147739698982612\n",
            "Iteration 107, objective: 5.65E+3, 0.1955728180717787\n",
            "Iteration 108, objective: 5.65E+3, 0.1751018436242852\n",
            "Iteration 109, objective: 5.65E+3, 0.1664891403029771\n",
            "Iteration 110, objective: 5.65E+3, 0.1605687237208415\n",
            "Iteration 111, objective: 5.65E+3, 0.15158840826227482\n",
            "Iteration 112, objective: 5.65E+3, 0.12919732454712798\n",
            "Iteration 113, objective: 5.65E+3, 0.12946081425951664\n",
            "Iteration 114, objective: 5.65E+3, 0.1215791953644249\n",
            "Iteration 115, objective: 5.65E+3, 0.11097467177905175\n",
            "Iteration 116, objective: 5.65E+3, 0.10622739578979856\n",
            "Iteration 117, objective: 5.65E+3, 0.09723469802218966\n",
            "Iteration 118, objective: 5.65E+3, 0.08975041418873907\n",
            "Iteration 119, objective: 5.65E+3, 0.08302498201273324\n",
            "Iteration 120, objective: 5.65E+3, 0.08138134632166087\n",
            "Iteration 121, objective: 5.65E+3, 0.07248949046311089\n",
            "Iteration 122, objective: 5.65E+3, 0.06942242059896825\n",
            "Iteration 123, objective: 5.65E+3, 0.06447299372103273\n",
            "Iteration 124, objective: 5.65E+3, 0.06073722480118926\n",
            "Iteration 125, objective: 5.65E+3, 0.058399083135700997\n",
            "Iteration 126, objective: 5.65E+3, 0.04994001856537579\n",
            "Iteration 127, objective: 5.65E+3, 0.04724117188851032\n",
            "Iteration 128, objective: 5.65E+3, 0.04584678446924134\n",
            "Iteration 129, objective: 5.65E+3, 0.042833105583657535\n",
            "Iteration 130, objective: 5.65E+3, 0.0360553226652589\n",
            "Iteration 131, objective: 5.65E+3, 0.03502692277317415\n",
            "Iteration 132, objective: 5.65E+3, 0.0332758291967183\n",
            "Iteration 133, objective: 5.65E+3, 0.029048423497848506\n",
            "Iteration 134, objective: 5.65E+3, 0.027631824691344276\n",
            "Iteration 135, objective: 5.65E+3, 0.025474889839605195\n",
            "Iteration 136, objective: 5.65E+3, 0.024342254346035902\n",
            "Iteration 137, objective: 5.65E+3, 0.02182857518227281\n",
            "Iteration 138, objective: 5.65E+3, 0.02093162692304082\n",
            "Iteration 139, objective: 5.65E+3, 0.01957605115507112\n",
            "Iteration 140, objective: 5.65E+3, 0.018320629693440903\n",
            "Iteration 141, objective: 5.65E+3, 0.016322294270928774\n",
            "Iteration 142, objective: 5.65E+3, 0.01521480007685902\n",
            "Iteration 143, objective: 5.65E+3, 0.015421020774642896\n",
            "Iteration 144, objective: 5.65E+3, 0.013139555440478169\n",
            "Iteration 145, objective: 5.65E+3, 0.012009100524166434\n",
            "Iteration 146, objective: 5.65E+3, 0.01150518563968511\n",
            "Iteration 147, objective: 5.65E+3, 0.01101668402364415\n",
            "Iteration 148, objective: 5.65E+3, 0.010008278851156356\n",
            "Iteration 149, objective: 5.65E+3, 0.009732755112616981\n",
            "Iteration 150, objective: 5.65E+3, 0.0092295855263552\n",
            "Iteration 151, objective: 5.65E+3, 0.008118943426091128\n",
            "\n",
            "Signal to Noise Ratio: 20.27153755578845\n"
          ],
          "name": "stdout"
        },
        {
          "output_type": "execute_result",
          "data": {
            "text/plain": [
              "<matplotlib.image.AxesImage at 0x7f95505c48d0>"
            ]
          },
          "metadata": {
            "tags": []
          },
          "execution_count": 99
        },
        {
          "output_type": "display_data",
          "data": {
            "image/png": "[encoded data removed]",
            "text/plain": [
              "<Figure size 576x396 with 1 Axes>"
            ]
          },
          "metadata": {
            "tags": []
          }
        },
        {
          "output_type": "display_data",
          "data": {
            "image/png": "[encoded data removed]",
            "text/plain": [
              "<Figure size 576x396 with 1 Axes>"
            ]
          },
          "metadata": {
            "tags": []
          }
        }
      ]
    },
    {
      "metadata": {
        "id": "Z62fYNCm4Rv0",
        "colab_type": "text"
      },
      "cell_type": "markdown",
      "source": [
        "## 3.4 Block-coordinate MM quadratic algorithm"
      ]
    },
    {
      "metadata": {
        "id": "UavP_bz6zlUQ",
        "colab_type": "code",
        "colab": {}
      },
      "cell_type": "code",
      "source": [
        "def index_matrix(j, Nblock, x):\n",
        "    Gr = G.toarray()\n",
        "    A=   np.dot(H.toarray().T, H.toarray())+ lamb*np.dot(  np.dot( Gr.T, Deb(x).toarray() ), Gr)\n",
        "    result = np.zeros((Nblock, Nblock))\n",
        "    i =int(Nblock*(j-1))\n",
        "    k = int(j*Nblock)\n",
        "    return A[i:k, i:k]"
      ],
      "execution_count": 0,
      "outputs": []
    },
    {
      "metadata": {
        "id": "2zBhEkJGzmHm",
        "colab_type": "code",
        "colab": {
          "base_uri": "https://localhost:8080/",
          "height": 34
        },
        "outputId": "d4241e8c-1a71-40e4-ff26-02cdf952dc7f"
      },
      "cell_type": "code",
      "source": [
        "def Block_coordinateMM(y, J):\n",
        "    f = []\n",
        "    itersv = []\n",
        "    x = np.random.rand(N, 1)\n",
        "    precision= np.sqrt(N)*(10**(-4))\n",
        "    Nblock =int(N/J)\n",
        "    gamma = 1.99/L\n",
        "    grad = N*(10**(-4))\n",
        "    iters=1\n",
        "    itermax=100\n",
        "    j = (iters-1)%J+1\n",
        "    II = int(Nblock*(j-1))\n",
        "    JJ =  int(j*Nblock)\n",
        "    print(II, JJ)\n",
        "    cur_xB = x[II:JJ]\n",
        "    \n",
        "    while grad > precision and iters < itermax:\n",
        "        \n",
        "        A = index_matrix(j, Nblock, x)\n",
        "        prev_x = x\n",
        "        print(A.shape)\n",
        "        print()\n",
        "        \n",
        "        cur_xB = cur_xB -\\\n",
        "        scipy.sparse.linalg.bicg(A, grad_f(x, y, lamb)[II:JJ])[0].reshape(-1, 1)\n",
        "        \n",
        "        cur_x[II:JJ] = cur_xB\n",
        "        \n",
        "        iters = iters + 1\n",
        "        j = (iters-1)%J+1\n",
        "        II = int(Nblock*(j-1))\n",
        "        JJ =  int(j*Nblock)\n",
        "        cur_xB = cur_x[II:JJ]\n",
        "        f.append(f(cur_x, y, lamb)[0])\n",
        "        itersv.append(iters)\n",
        "        previous_step_size =  np.linalg.norm((gradient( x, y, lamb)))\n",
        "        print(\"Iteration {}, objective: {:.2E}, {}\".format(iters,Decimal(f(cur_x, y, lamb)[0]),previous_step_size))\n",
        "        \n",
        "    return (cur_x, f, itersv)\n",
        "\n",
        "y = H@x + sigma\n",
        "result = Block_coordinateMM(y, 1)\n",
        "plt.plot(result[2], result[1])"
      ],
      "execution_count": 0,
      "outputs": [
        {
          "output_type": "stream",
          "text": [
            "0 8100\n"
          ],
          "name": "stdout"
        }
      ]
    },
    {
      "metadata": {
        "id": "e8J53me94Rxq",
        "colab_type": "text"
      },
      "cell_type": "markdown",
      "source": [
        "### 3.5.  Parallel MM quadratic algorithm"
      ]
    },
    {
      "metadata": {
        "id": "T8zc2e5xsE_G",
        "colab_type": "text"
      },
      "cell_type": "markdown",
      "source": [
        "$\\underline{\\textbf{Q1.}}$ Let be $x \\in \\mathbb{R}^{N}$, and $y\\in \\mathbb{R}^{N}$. We show that $y^{T}\\left(B(x)- A(x)\\right)y \\geq 0$\n",
        "\n",
        "$$ y^{T}H^{T}Hy = \\sum_{m=1}^{M}\\left(\\sum_{p=1}^{N}H^{(m,p)}y_p)\\right)^{2} =  \\sum_{m=1}^{M}\\left(\\sum_{p=1}^{N}H^{(m,p)}\\right)^{2}\\times\\left(\\sum_{p=1}^{N}\\frac{H^{(m,p)}}{\\sum_{p=1}^{N}H^{(m,p)}}y_p)\\right)^{2} \\leq  \\sum_{m=1}^{M} \\sum_{p=1}^{N}H^{(m,p)}\\sum_{p=1}^{N}H^{(m,p)}y_p^2$$ \n",
        "\n",
        "Where we have used Jenson Inequality in teh last inequality with the function square which is convex\n",
        "\n",
        "In the same way we show that: \n",
        "\n",
        "$$y^{T}G^Tw(x)Gy \\leq \\sum_{m=1}^{M} \\sum_{p=1}^{N}G^{(m,p)}\\sum_{p=1}^{N}G^{(m,p)}(\\omega(x))_{p}y_p^2$$\n",
        "\n",
        "Where $w(x) = \\frac{\\dot{\\psi}(Gx)}{Gx}$\n",
        "\n",
        "Thus we can conclude that $y^{T}\\left(B(x)- A(x)\\right)y \\geq 0$"
      ]
    },
    {
      "metadata": {
        "id": "i1ZpRbJ6xXew",
        "colab_type": "code",
        "colab": {}
      },
      "cell_type": "code",
      "source": [
        "import numpy as np\n",
        "from scipy import linalg\n",
        "import scipy\n",
        "import multiprocessing\n",
        "\n",
        "numProcessors = 4\n",
        "p = multiprocessing.Pool( numProcessors )\n",
        "\n",
        "\n",
        "def phi(u, delta):\n",
        "    return np.sqrt(1+ u**2/delta**2)\n",
        "def r(x):\n",
        "    result = np.zeros((M, 1))\n",
        "    for i in range(M):\n",
        "        result[i, 0] = phi((G@x)[i, 0], delta) \n",
        "    return sum(result)\n",
        "\n",
        "def criterionfunction(x, y, lambdaa):\n",
        "    return (1/2)*np.linalg.norm(H@x - y)**2 + lambdaa*r(x)\n",
        "\n",
        "def phi_derivative(x, delta):\n",
        "    return (x/delta**2)/np.sqrt(1 + x**2/delta**2)\n",
        "\n",
        "def gradient(x, y, lambdaa):\n",
        "    return (HH.T)@(HH@x-y)+ lambdaa*GG.T@phi_derivative(GG@x, delta)\n",
        "\n",
        "\n",
        "def B(x, delta, lambdaa):\n",
        "    B= np.zeros((N, N))\n",
        "    for i in range(N):\n",
        "        phi_Gx = np.array([phi_derivative( (G@x)[j, 0] , delta)/(G@x)[j, 0] for j in range(M)])\n",
        "        H_i = np.zeros((1, M))\n",
        "        G_i = np.zeros((1, M))\n",
        "        for m in range(M):\n",
        "            H_i[0,m] = np.abs(H[m, i])*np.sum(np.abs(H[m, :]))\n",
        "            G_i[0,m] = np.abs(G[m, i])*np.sum(np.abs(G[m, :]))\n",
        "        B[i,i] = 1/np.sum( H_i)+ lambdaa* np.dot(G_i, phi_Gx[:,None])\n",
        "    return B\n",
        "\n",
        "def MM_parallel(y):\n",
        "    x = np.random.rand(N, 1)\n",
        "    precision= np.sqrt(N)*(10**(-4))\n",
        "    gamma = 1.99/L\n",
        "    grad = N*1e-4\n",
        "    it = 0\n",
        "    itermax=10\n",
        "    objectives = []\n",
        "    times = [0]\n",
        "    while grad > np.sqrt(N)*1e-4 and it <= itermax:\n",
        "        t1 = time.time()\n",
        "        x = x - B(x, delta, lamb)@gradient(x, y, lamb)\n",
        "        grad = np.linalg.norm((gradient( x, y, lamb)))\n",
        "        criterion = f(x,y,G,H,lamb,delta)\n",
        "        objectives.append(criterion)\n",
        "        \n",
        "        if it%1 == 0:\n",
        "            print(\"Iteration {}, objective: {:.2E}, {}, {}\".format(it,Decimal(criterion),grad,0.5*np.linalg.norm(H*x - y)**2))        \n",
        "        t2 = time.time()\n",
        "        times.append(times[-1]+t2-t1)\n",
        "        it += 1\n",
        "        \n",
        "    return x,objectives,times\n",
        "\n",
        "x_hat,objectives,times = MM_parallel(y)\n",
        "plt.figure()\n",
        "plt.semilogy(times[1:],objectives)\n",
        "plt.grid(which='both')\n",
        "print('\\nSignal to Noise Ratio:',SNR(x_hat,x))\n",
        "plt.figure()\n",
        "plt.imshow(x_hat.reshape(90,90).T,cmap = 'gray')\n"
      ],
      "execution_count": 0,
      "outputs": []
    }
  ]
}